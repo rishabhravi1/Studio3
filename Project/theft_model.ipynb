{
  "cells": [
    {
      "cell_type": "markdown",
      "metadata": {
        "colab_type": "text",
        "id": "view-in-github"
      },
      "source": [
        "<a href=\"https://colab.research.google.com/github/rishabhravi1/Studio3/blob/main/theft_model.ipynb\" target=\"_parent\"><img src=\"https://colab.research.google.com/assets/colab-badge.svg\" alt=\"Open In Colab\"/></a>"
      ]
    },
    {
      "cell_type": "code",
      "execution_count": 1,
      "metadata": {
        "id": "5siDjUTuYs5T"
      },
      "outputs": [],
      "source": [
        "# Import Libraries\n",
        "import pandas as pd\n",
        "import numpy as np\n",
        "import seaborn as sns\n",
        "import matplotlib.pyplot as plt\n",
        "%matplotlib inline\n",
        "\n",
        "import warnings\n",
        "warnings.filterwarnings('ignore')"
      ]
    },
    {
      "cell_type": "code",
      "execution_count": 2,
      "metadata": {
        "colab": {
          "base_uri": "https://localhost:8080/",
          "height": 206
        },
        "id": "lNJACSZh-ADJ",
        "outputId": "76696d00-c999-4799-e719-2a76dc9b8c9d"
      },
      "outputs": [
        {
          "data": {
            "text/html": [
              "<div>\n",
              "<style scoped>\n",
              "    .dataframe tbody tr th:only-of-type {\n",
              "        vertical-align: middle;\n",
              "    }\n",
              "\n",
              "    .dataframe tbody tr th {\n",
              "        vertical-align: top;\n",
              "    }\n",
              "\n",
              "    .dataframe thead th {\n",
              "        text-align: right;\n",
              "    }\n",
              "</style>\n",
              "<table border=\"1\" class=\"dataframe\">\n",
              "  <thead>\n",
              "    <tr style=\"text-align: right;\">\n",
              "      <th></th>\n",
              "      <th>Street_Address</th>\n",
              "      <th>Zipcode</th>\n",
              "      <th>X_Coordinate</th>\n",
              "      <th>Y_Coordinate</th>\n",
              "      <th>NIBRS_Hi_Class</th>\n",
              "    </tr>\n",
              "  </thead>\n",
              "  <tbody>\n",
              "    <tr>\n",
              "      <th>0</th>\n",
              "      <td>INTERURBAN                               AV</td>\n",
              "      <td>28208</td>\n",
              "      <td>1431508</td>\n",
              "      <td>554267</td>\n",
              "      <td>Motor Vehicle Theft</td>\n",
              "    </tr>\n",
              "    <tr>\n",
              "      <th>1</th>\n",
              "      <td>SPRINGMONT                               LN</td>\n",
              "      <td>28208</td>\n",
              "      <td>1427405</td>\n",
              "      <td>557580</td>\n",
              "      <td>Motor Vehicle Theft</td>\n",
              "    </tr>\n",
              "    <tr>\n",
              "      <th>2</th>\n",
              "      <td>SCOTT FUTRELL                            DR</td>\n",
              "      <td>28208</td>\n",
              "      <td>1425917</td>\n",
              "      <td>546914</td>\n",
              "      <td>Motor Vehicle Theft</td>\n",
              "    </tr>\n",
              "    <tr>\n",
              "      <th>3</th>\n",
              "      <td>LISBON                                   LN</td>\n",
              "      <td>28269</td>\n",
              "      <td>1463794</td>\n",
              "      <td>564750</td>\n",
              "      <td>Motor Vehicle Theft</td>\n",
              "    </tr>\n",
              "    <tr>\n",
              "      <th>4</th>\n",
              "      <td>PERIMETER STATION                        DR</td>\n",
              "      <td>28269</td>\n",
              "      <td>1447340</td>\n",
              "      <td>585770</td>\n",
              "      <td>Motor Vehicle Theft</td>\n",
              "    </tr>\n",
              "  </tbody>\n",
              "</table>\n",
              "</div>"
            ],
            "text/plain": [
              "                                   Street_Address Zipcode  X_Coordinate  \\\n",
              "0     INTERURBAN                               AV   28208       1431508   \n",
              "1     SPRINGMONT                               LN   28208       1427405   \n",
              "2     SCOTT FUTRELL                            DR   28208       1425917   \n",
              "3     LISBON                                   LN   28269       1463794   \n",
              "4     PERIMETER STATION                        DR   28269       1447340   \n",
              "\n",
              "   Y_Coordinate       NIBRS_Hi_Class  \n",
              "0        554267  Motor Vehicle Theft  \n",
              "1        557580  Motor Vehicle Theft  \n",
              "2        546914  Motor Vehicle Theft  \n",
              "3        564750  Motor Vehicle Theft  \n",
              "4        585770  Motor Vehicle Theft  "
            ]
          },
          "execution_count": 2,
          "metadata": {},
          "output_type": "execute_result"
        }
      ],
      "source": [
        "vehicle_df = pd.read_csv(\"Vehicle_Theft.csv\")\n",
        "vehicle_df.head()"
      ]
    },
    {
      "cell_type": "code",
      "execution_count": 3,
      "metadata": {
        "colab": {
          "base_uri": "https://localhost:8080/"
        },
        "id": "1UgpYh6JPCwr",
        "outputId": "d2f674a5-ef8f-4c16-98ef-b3bdaf3efa3d"
      },
      "outputs": [
        {
          "data": {
            "text/plain": [
              "(10957, 5)"
            ]
          },
          "execution_count": 3,
          "metadata": {},
          "output_type": "execute_result"
        }
      ],
      "source": [
        "vehicle_df.shape"
      ]
    },
    {
      "cell_type": "markdown",
      "metadata": {
        "id": "7Ittfv-EhqXE"
      },
      "source": [
        "##Start of Zipcode Calculations\n"
      ]
    },
    {
      "cell_type": "code",
      "execution_count": 4,
      "metadata": {
        "colab": {
          "base_uri": "https://localhost:8080/"
        },
        "id": "U3maA5Iah2cI",
        "outputId": "f834538b-17e1-431d-8c98-a6f1c511907e"
      },
      "outputs": [
        {
          "name": "stdout",
          "output_type": "stream",
          "text": [
            "   Zipcode  Theft_Count\n",
            "0    28208         1414\n",
            "1    28205         1189\n",
            "2    28216          780\n",
            "3    28215          734\n",
            "4    28213          709\n",
            "5    28212          682\n",
            "6    28269          592\n",
            "7    28217          588\n",
            "8    28262          493\n",
            "9    28214          464\n",
            "10   28202          459\n",
            "11   28273          423\n",
            "12   28206          402\n",
            "13   28210          393\n",
            "14   28227          292\n",
            "                                    Street_Address Zipcode  X_Coordinate  \\\n",
            "0      INTERURBAN                               AV   28208       1431508   \n",
            "1      SPRINGMONT                               LN   28208       1427405   \n",
            "2      SCOTT FUTRELL                            DR   28208       1425917   \n",
            "3      LISBON                                   LN   28269       1463794   \n",
            "4      PERIMETER STATION                        DR   28269       1447340   \n",
            "5      JORDANS POND                             LN   28214       1423483   \n",
            "6   E  INDEPENDENCE                             BV   28212       1477862   \n",
            "7   N  CALDWELL                                 ST   28202       1451678   \n",
            "8      MAGNOLIA HILL                            DR   28205       1470918   \n",
            "9   S  COLLEGE                                  ST   28202       1449355   \n",
            "10     SCALEYBARK                               RD   28209       1443247   \n",
            "11     THRIFTWOOD                               DR   28208       1431910   \n",
            "12     SETHS                                    DR   28269       1461640   \n",
            "13     LEIGH                                    CR   28216       1434683   \n",
            "14     HENSLOWE                                 LN   28262       1494420   \n",
            "15     KILCULLEN                                DR   28270       1474707   \n",
            "16     PEACEHAVEN                               DR   28208       1420675   \n",
            "17     COLWICK                                  RD   28211       1462562   \n",
            "18     KIMMERLY WOODS                           DR   28212       1484153   \n",
            "19     DEVON CROFT                              LN   28269       1470456   \n",
            "\n",
            "    Y_Coordinate       NIBRS_Hi_Class  HighRisk  \n",
            "0         554267  Motor Vehicle Theft         0  \n",
            "1         557580  Motor Vehicle Theft         0  \n",
            "2         546914  Motor Vehicle Theft         0  \n",
            "3         564750  Motor Vehicle Theft         0  \n",
            "4         585770  Motor Vehicle Theft         0  \n",
            "5         566774  Motor Vehicle Theft         0  \n",
            "6         522932  Motor Vehicle Theft         0  \n",
            "7         542269  Motor Vehicle Theft         0  \n",
            "8         543000  Motor Vehicle Theft         0  \n",
            "9         542073  Motor Vehicle Theft         0  \n",
            "10        526701  Motor Vehicle Theft         0  \n",
            "11        553890  Motor Vehicle Theft         0  \n",
            "12        570178  Motor Vehicle Theft         0  \n",
            "13        571775  Motor Vehicle Theft         0  \n",
            "14        577858  Motor Vehicle Theft         0  \n",
            "15        510510  Motor Vehicle Theft         0  \n",
            "16        555803  Motor Vehicle Theft         0  \n",
            "17        524686  Motor Vehicle Theft         0  \n",
            "18        541954  Motor Vehicle Theft         0  \n",
            "19        580360  Motor Vehicle Theft         0  \n"
          ]
        }
      ],
      "source": [
        "# Group data by zip code and calculate the count of vehicle theft incidents per zip code\n",
        "zip_theft_counts = vehicle_df['Zipcode'].value_counts().reset_index()\n",
        "zip_theft_counts.columns = ['Zipcode', 'Theft_Count']\n",
        "\n",
        "# Displaying the counts for each zip code\n",
        "print(zip_theft_counts.head(15))\n",
        "\n",
        "# Calculate vehicle theft per capita (assuming a default population value)\n",
        "# Adjust this value based on your data\n",
        "default_population = 10000  # You should replace this with the actual population data for each zip code\n",
        "zip_theft_counts['Vehicle_Theft_Per_Capita'] = zip_theft_counts['Theft_Count'] / default_population\n",
        "\n",
        "# Define a threshold for classifying as 'HighRisk' (this can be later adjusted)\n",
        "# Adjust this threshold as needed\n",
        "threshold = 5\n",
        "\n",
        "# Create the 'HighRisk' column based on the threshold\n",
        "zip_theft_counts['HighRisk'] = zip_theft_counts['Vehicle_Theft_Per_Capita'] > threshold\n",
        "\n",
        "# Merge the 'HighRisk' column back into the original vehicle_df\n",
        "vehicle_df = vehicle_df.merge(zip_theft_counts[['Zipcode', 'HighRisk']], on='Zipcode', how='left')\n",
        "\n",
        "vehicle_df['HighRisk'] = vehicle_df['HighRisk'].astype(int)\n",
        "\n",
        "# Display the updated DataFrame with high-risk zip codes\n",
        "print(vehicle_df.head(20))\n"
      ]
    },
    {
      "cell_type": "code",
      "execution_count": 5,
      "metadata": {
        "colab": {
          "base_uri": "https://localhost:8080/",
          "height": 390
        },
        "id": "WmNQv5OfixMo",
        "outputId": "6aa87f1b-9401-47e3-e999-b097fa22a63e"
      },
      "outputs": [
        {
          "ename": "NameError",
          "evalue": "name 'theft_counts' is not defined",
          "output_type": "error",
          "traceback": [
            "\u001b[1;31m---------------------------------------------------------------------------\u001b[0m",
            "\u001b[1;31mNameError\u001b[0m                                 Traceback (most recent call last)",
            "\u001b[1;32mc:\\Users\\optim\\Documents\\GitHub\\Studio3\\Project\\theft_model.ipynb Cell 7\u001b[0m line \u001b[0;36m2\n\u001b[0;32m      <a href='vscode-notebook-cell:/c%3A/Users/optim/Documents/GitHub/Studio3/Project/theft_model.ipynb#W6sZmlsZQ%3D%3D?line=0'>1</a>\u001b[0m \u001b[39m# Group data by zip code and calculate the mean theft incidents for each zip code\u001b[39;00m\n\u001b[1;32m----> <a href='vscode-notebook-cell:/c%3A/Users/optim/Documents/GitHub/Studio3/Project/theft_model.ipynb#W6sZmlsZQ%3D%3D?line=1'>2</a>\u001b[0m zip_theft_means \u001b[39m=\u001b[39m theft_counts\u001b[39m.\u001b[39mgroupby(\u001b[39m'\u001b[39m\u001b[39mZipcode\u001b[39m\u001b[39m'\u001b[39m)[\u001b[39m'\u001b[39m\u001b[39mTheft_Incident_Count\u001b[39m\u001b[39m'\u001b[39m]\u001b[39m.\u001b[39mmean()\u001b[39m.\u001b[39mreset_index()\n\u001b[0;32m      <a href='vscode-notebook-cell:/c%3A/Users/optim/Documents/GitHub/Studio3/Project/theft_model.ipynb#W6sZmlsZQ%3D%3D?line=3'>4</a>\u001b[0m \u001b[39m# Display the mean theft incidents for each zip code\u001b[39;00m\n\u001b[0;32m      <a href='vscode-notebook-cell:/c%3A/Users/optim/Documents/GitHub/Studio3/Project/theft_model.ipynb#W6sZmlsZQ%3D%3D?line=4'>5</a>\u001b[0m \u001b[39mprint\u001b[39m(zip_theft_means)\n",
            "\u001b[1;31mNameError\u001b[0m: name 'theft_counts' is not defined"
          ]
        }
      ],
      "source": [
        "# Group data by zip code and calculate the mean theft incidents for each zip code\n",
        "zip_theft_means = theft_counts.groupby('Zipcode')['Theft_Incident_Count'].mean().reset_index()\n",
        "\n",
        "# Display the mean theft incidents for each zip code\n",
        "print(zip_theft_means)\n"
      ]
    },
    {
      "cell_type": "markdown",
      "metadata": {
        "id": "XnRVwMolhxMa"
      },
      "source": [
        "### Start of street calculations"
      ]
    },
    {
      "cell_type": "code",
      "execution_count": null,
      "metadata": {
        "colab": {
          "base_uri": "https://localhost:8080/"
        },
        "id": "2G3PMPsKBWnK",
        "outputId": "5baa5121-ba29-4384-d941-739862bdf525"
      },
      "outputs": [
        {
          "name": "stdout",
          "output_type": "stream",
          "text": [
            "                                      Street_Address  Theft_Incident_Count\n",
            "0        26TH                                     ST                     1\n",
            "1                                              77 IN                     3\n",
            "2        A                                        AV                     2\n",
            "3        ABBEY COURT                              DR                     1\n",
            "4        ABBEYDALE                                DR                     6\n",
            "...                                              ...                   ...\n",
            "3215  W  TREMONT                                  AV                     4\n",
            "3216  W  TYVOLA                                   RD                     2\n",
            "3217  W  W T HARRIS                               BV                    17\n",
            "3218  W  WOODLAWN                                 RD                    10\n",
            "3219  W  WORTHINGTON                              AV                     2\n",
            "\n",
            "[3220 rows x 2 columns]\n"
          ]
        }
      ],
      "source": [
        "# Group by Street Adress and calculate the total number of theft incidents\n",
        "#theft_counts = vehicle_df.groupby('Street_Address')['NIBRS_Hi_Class'].count().reset_index()\n",
        "#theft_counts.rename(columns={'NIBRS_Hi_Class': 'Theft_Incident_Count'}, inplace=True)\n",
        "\n",
        "#print(theft_counts)"
      ]
    },
    {
      "cell_type": "code",
      "execution_count": null,
      "metadata": {
        "colab": {
          "base_uri": "https://localhost:8080/",
          "height": 512
        },
        "id": "OHrX2RMJEWs2",
        "outputId": "3289a6ba-efc7-41c6-803f-8e105291ec3f"
      },
      "outputs": [],
      "source": [
        "# Calculate vehicle theft per capita (assuming a default population value)\n",
        "#default_population = 10000  # Adjust this value based on your assumption\n",
        "#theft_counts['Vehicle_Theft_Per_Capita'] = theft_counts['Theft_Incident_Count'] / default_population"
      ]
    },
    {
      "cell_type": "code",
      "execution_count": null,
      "metadata": {
        "id": "XtzWkUZ4Ee7r"
      },
      "outputs": [],
      "source": [
        "# Define a threshold for classifying as 'HighRisk' (you can adjust this threshold)\n",
        "#threshold = 0.01  # Adjust this threshold as needed"
      ]
    },
    {
      "cell_type": "code",
      "execution_count": null,
      "metadata": {
        "id": "_rvmhrUjEjou"
      },
      "outputs": [],
      "source": [
        "# Create the 'HighRisk' column based on the threshold\n",
        "#theft_counts['HighRisk'] = theft_counts['Vehicle_Theft_Per_Capita'] > threshold"
      ]
    },
    {
      "cell_type": "code",
      "execution_count": null,
      "metadata": {
        "colab": {
          "base_uri": "https://localhost:8080/",
          "height": 206
        },
        "id": "dPAZYuTOEl81",
        "outputId": "5a5b9c2b-c302-43c4-d471-c57b37e0b337"
      },
      "outputs": [
        {
          "data": {
            "text/html": [
              "\n",
              "  <div id=\"df-a803253f-811e-494b-ba10-ca0b8acc1d6e\" class=\"colab-df-container\">\n",
              "    <div>\n",
              "<style scoped>\n",
              "    .dataframe tbody tr th:only-of-type {\n",
              "        vertical-align: middle;\n",
              "    }\n",
              "\n",
              "    .dataframe tbody tr th {\n",
              "        vertical-align: top;\n",
              "    }\n",
              "\n",
              "    .dataframe thead th {\n",
              "        text-align: right;\n",
              "    }\n",
              "</style>\n",
              "<table border=\"1\" class=\"dataframe\">\n",
              "  <thead>\n",
              "    <tr style=\"text-align: right;\">\n",
              "      <th></th>\n",
              "      <th>Street_Address</th>\n",
              "      <th>Zipcode</th>\n",
              "      <th>X_Coordinate</th>\n",
              "      <th>Y_Coordinate</th>\n",
              "      <th>NIBRS_Hi_Class</th>\n",
              "      <th>HighRisk</th>\n",
              "    </tr>\n",
              "  </thead>\n",
              "  <tbody>\n",
              "    <tr>\n",
              "      <th>0</th>\n",
              "      <td>INTERURBAN                               AV</td>\n",
              "      <td>28208</td>\n",
              "      <td>1431508</td>\n",
              "      <td>554267</td>\n",
              "      <td>Motor Vehicle Theft</td>\n",
              "      <td>0</td>\n",
              "    </tr>\n",
              "    <tr>\n",
              "      <th>1</th>\n",
              "      <td>SPRINGMONT                               LN</td>\n",
              "      <td>28208</td>\n",
              "      <td>1427405</td>\n",
              "      <td>557580</td>\n",
              "      <td>Motor Vehicle Theft</td>\n",
              "      <td>0</td>\n",
              "    </tr>\n",
              "    <tr>\n",
              "      <th>2</th>\n",
              "      <td>SCOTT FUTRELL                            DR</td>\n",
              "      <td>28208</td>\n",
              "      <td>1425917</td>\n",
              "      <td>546914</td>\n",
              "      <td>Motor Vehicle Theft</td>\n",
              "      <td>0</td>\n",
              "    </tr>\n",
              "    <tr>\n",
              "      <th>3</th>\n",
              "      <td>LISBON                                   LN</td>\n",
              "      <td>28269</td>\n",
              "      <td>1463794</td>\n",
              "      <td>564750</td>\n",
              "      <td>Motor Vehicle Theft</td>\n",
              "      <td>0</td>\n",
              "    </tr>\n",
              "    <tr>\n",
              "      <th>4</th>\n",
              "      <td>PERIMETER STATION                        DR</td>\n",
              "      <td>28269</td>\n",
              "      <td>1447340</td>\n",
              "      <td>585770</td>\n",
              "      <td>Motor Vehicle Theft</td>\n",
              "      <td>0</td>\n",
              "    </tr>\n",
              "  </tbody>\n",
              "</table>\n",
              "</div>\n",
              "    <div class=\"colab-df-buttons\">\n",
              "\n",
              "  <div class=\"colab-df-container\">\n",
              "    <button class=\"colab-df-convert\" onclick=\"convertToInteractive('df-a803253f-811e-494b-ba10-ca0b8acc1d6e')\"\n",
              "            title=\"Convert this dataframe to an interactive table.\"\n",
              "            style=\"display:none;\">\n",
              "\n",
              "  <svg xmlns=\"http://www.w3.org/2000/svg\" height=\"24px\" viewBox=\"0 -960 960 960\">\n",
              "    <path d=\"M120-120v-720h720v720H120Zm60-500h600v-160H180v160Zm220 220h160v-160H400v160Zm0 220h160v-160H400v160ZM180-400h160v-160H180v160Zm440 0h160v-160H620v160ZM180-180h160v-160H180v160Zm440 0h160v-160H620v160Z\"/>\n",
              "  </svg>\n",
              "    </button>\n",
              "\n",
              "  <style>\n",
              "    .colab-df-container {\n",
              "      display:flex;\n",
              "      gap: 12px;\n",
              "    }\n",
              "\n",
              "    .colab-df-convert {\n",
              "      background-color: #E8F0FE;\n",
              "      border: none;\n",
              "      border-radius: 50%;\n",
              "      cursor: pointer;\n",
              "      display: none;\n",
              "      fill: #1967D2;\n",
              "      height: 32px;\n",
              "      padding: 0 0 0 0;\n",
              "      width: 32px;\n",
              "    }\n",
              "\n",
              "    .colab-df-convert:hover {\n",
              "      background-color: #E2EBFA;\n",
              "      box-shadow: 0px 1px 2px rgba(60, 64, 67, 0.3), 0px 1px 3px 1px rgba(60, 64, 67, 0.15);\n",
              "      fill: #174EA6;\n",
              "    }\n",
              "\n",
              "    .colab-df-buttons div {\n",
              "      margin-bottom: 4px;\n",
              "    }\n",
              "\n",
              "    [theme=dark] .colab-df-convert {\n",
              "      background-color: #3B4455;\n",
              "      fill: #D2E3FC;\n",
              "    }\n",
              "\n",
              "    [theme=dark] .colab-df-convert:hover {\n",
              "      background-color: #434B5C;\n",
              "      box-shadow: 0px 1px 3px 1px rgba(0, 0, 0, 0.15);\n",
              "      filter: drop-shadow(0px 1px 2px rgba(0, 0, 0, 0.3));\n",
              "      fill: #FFFFFF;\n",
              "    }\n",
              "  </style>\n",
              "\n",
              "    <script>\n",
              "      const buttonEl =\n",
              "        document.querySelector('#df-a803253f-811e-494b-ba10-ca0b8acc1d6e button.colab-df-convert');\n",
              "      buttonEl.style.display =\n",
              "        google.colab.kernel.accessAllowed ? 'block' : 'none';\n",
              "\n",
              "      async function convertToInteractive(key) {\n",
              "        const element = document.querySelector('#df-a803253f-811e-494b-ba10-ca0b8acc1d6e');\n",
              "        const dataTable =\n",
              "          await google.colab.kernel.invokeFunction('convertToInteractive',\n",
              "                                                    [key], {});\n",
              "        if (!dataTable) return;\n",
              "\n",
              "        const docLinkHtml = 'Like what you see? Visit the ' +\n",
              "          '<a target=\"_blank\" href=https://colab.research.google.com/notebooks/data_table.ipynb>data table notebook</a>'\n",
              "          + ' to learn more about interactive tables.';\n",
              "        element.innerHTML = '';\n",
              "        dataTable['output_type'] = 'display_data';\n",
              "        await google.colab.output.renderOutput(dataTable, element);\n",
              "        const docLink = document.createElement('div');\n",
              "        docLink.innerHTML = docLinkHtml;\n",
              "        element.appendChild(docLink);\n",
              "      }\n",
              "    </script>\n",
              "  </div>\n",
              "\n",
              "\n",
              "<div id=\"df-3de1c8d6-9f34-4657-a19b-c048004a6594\">\n",
              "  <button class=\"colab-df-quickchart\" onclick=\"quickchart('df-3de1c8d6-9f34-4657-a19b-c048004a6594')\"\n",
              "            title=\"Suggest charts.\"\n",
              "            style=\"display:none;\">\n",
              "\n",
              "<svg xmlns=\"http://www.w3.org/2000/svg\" height=\"24px\"viewBox=\"0 0 24 24\"\n",
              "     width=\"24px\">\n",
              "    <g>\n",
              "        <path d=\"M19 3H5c-1.1 0-2 .9-2 2v14c0 1.1.9 2 2 2h14c1.1 0 2-.9 2-2V5c0-1.1-.9-2-2-2zM9 17H7v-7h2v7zm4 0h-2V7h2v10zm4 0h-2v-4h2v4z\"/>\n",
              "    </g>\n",
              "</svg>\n",
              "  </button>\n",
              "\n",
              "<style>\n",
              "  .colab-df-quickchart {\n",
              "      --bg-color: #E8F0FE;\n",
              "      --fill-color: #1967D2;\n",
              "      --hover-bg-color: #E2EBFA;\n",
              "      --hover-fill-color: #174EA6;\n",
              "      --disabled-fill-color: #AAA;\n",
              "      --disabled-bg-color: #DDD;\n",
              "  }\n",
              "\n",
              "  [theme=dark] .colab-df-quickchart {\n",
              "      --bg-color: #3B4455;\n",
              "      --fill-color: #D2E3FC;\n",
              "      --hover-bg-color: #434B5C;\n",
              "      --hover-fill-color: #FFFFFF;\n",
              "      --disabled-bg-color: #3B4455;\n",
              "      --disabled-fill-color: #666;\n",
              "  }\n",
              "\n",
              "  .colab-df-quickchart {\n",
              "    background-color: var(--bg-color);\n",
              "    border: none;\n",
              "    border-radius: 50%;\n",
              "    cursor: pointer;\n",
              "    display: none;\n",
              "    fill: var(--fill-color);\n",
              "    height: 32px;\n",
              "    padding: 0;\n",
              "    width: 32px;\n",
              "  }\n",
              "\n",
              "  .colab-df-quickchart:hover {\n",
              "    background-color: var(--hover-bg-color);\n",
              "    box-shadow: 0 1px 2px rgba(60, 64, 67, 0.3), 0 1px 3px 1px rgba(60, 64, 67, 0.15);\n",
              "    fill: var(--button-hover-fill-color);\n",
              "  }\n",
              "\n",
              "  .colab-df-quickchart-complete:disabled,\n",
              "  .colab-df-quickchart-complete:disabled:hover {\n",
              "    background-color: var(--disabled-bg-color);\n",
              "    fill: var(--disabled-fill-color);\n",
              "    box-shadow: none;\n",
              "  }\n",
              "\n",
              "  .colab-df-spinner {\n",
              "    border: 2px solid var(--fill-color);\n",
              "    border-color: transparent;\n",
              "    border-bottom-color: var(--fill-color);\n",
              "    animation:\n",
              "      spin 1s steps(1) infinite;\n",
              "  }\n",
              "\n",
              "  @keyframes spin {\n",
              "    0% {\n",
              "      border-color: transparent;\n",
              "      border-bottom-color: var(--fill-color);\n",
              "      border-left-color: var(--fill-color);\n",
              "    }\n",
              "    20% {\n",
              "      border-color: transparent;\n",
              "      border-left-color: var(--fill-color);\n",
              "      border-top-color: var(--fill-color);\n",
              "    }\n",
              "    30% {\n",
              "      border-color: transparent;\n",
              "      border-left-color: var(--fill-color);\n",
              "      border-top-color: var(--fill-color);\n",
              "      border-right-color: var(--fill-color);\n",
              "    }\n",
              "    40% {\n",
              "      border-color: transparent;\n",
              "      border-right-color: var(--fill-color);\n",
              "      border-top-color: var(--fill-color);\n",
              "    }\n",
              "    60% {\n",
              "      border-color: transparent;\n",
              "      border-right-color: var(--fill-color);\n",
              "    }\n",
              "    80% {\n",
              "      border-color: transparent;\n",
              "      border-right-color: var(--fill-color);\n",
              "      border-bottom-color: var(--fill-color);\n",
              "    }\n",
              "    90% {\n",
              "      border-color: transparent;\n",
              "      border-bottom-color: var(--fill-color);\n",
              "    }\n",
              "  }\n",
              "</style>\n",
              "\n",
              "  <script>\n",
              "    async function quickchart(key) {\n",
              "      const quickchartButtonEl =\n",
              "        document.querySelector('#' + key + ' button');\n",
              "      quickchartButtonEl.disabled = true;  // To prevent multiple clicks.\n",
              "      quickchartButtonEl.classList.add('colab-df-spinner');\n",
              "      try {\n",
              "        const charts = await google.colab.kernel.invokeFunction(\n",
              "            'suggestCharts', [key], {});\n",
              "      } catch (error) {\n",
              "        console.error('Error during call to suggestCharts:', error);\n",
              "      }\n",
              "      quickchartButtonEl.classList.remove('colab-df-spinner');\n",
              "      quickchartButtonEl.classList.add('colab-df-quickchart-complete');\n",
              "    }\n",
              "    (() => {\n",
              "      let quickchartButtonEl =\n",
              "        document.querySelector('#df-3de1c8d6-9f34-4657-a19b-c048004a6594 button');\n",
              "      quickchartButtonEl.style.display =\n",
              "        google.colab.kernel.accessAllowed ? 'block' : 'none';\n",
              "    })();\n",
              "  </script>\n",
              "</div>\n",
              "    </div>\n",
              "  </div>\n"
            ],
            "text/plain": [
              "                                   Street_Address Zipcode  X_Coordinate  \\\n",
              "0     INTERURBAN                               AV   28208       1431508   \n",
              "1     SPRINGMONT                               LN   28208       1427405   \n",
              "2     SCOTT FUTRELL                            DR   28208       1425917   \n",
              "3     LISBON                                   LN   28269       1463794   \n",
              "4     PERIMETER STATION                        DR   28269       1447340   \n",
              "\n",
              "   Y_Coordinate       NIBRS_Hi_Class  HighRisk  \n",
              "0        554267  Motor Vehicle Theft         0  \n",
              "1        557580  Motor Vehicle Theft         0  \n",
              "2        546914  Motor Vehicle Theft         0  \n",
              "3        564750  Motor Vehicle Theft         0  \n",
              "4        585770  Motor Vehicle Theft         0  "
            ]
          },
          "execution_count": 8,
          "metadata": {},
          "output_type": "execute_result"
        }
      ],
      "source": [
        "# Merge the 'HighRisk' column back into your original vehicle_dfset\n",
        "#vehicle_df = vehicle_df.merge(theft_counts[['Street_Address', 'HighRisk']], on='Street_Address', how='left')\n",
        "\n",
        "#vehicle_df['HighRisk'] = vehicle_df['HighRisk'].astype(int)\n",
        "\n",
        "#vehicle_df.head()"
      ]
    },
    {
      "cell_type": "code",
      "execution_count": null,
      "metadata": {
        "id": "Q5OcbhN-EsZN"
      },
      "outputs": [],
      "source": [
        "# Save the updated dataset\n",
        "vehicle_df.to_csv('your_updated_dataset.csv', index=False)"
      ]
    },
    {
      "cell_type": "markdown",
      "metadata": {
        "id": "93R-MNKX-evv"
      },
      "source": [
        "## Model testing"
      ]
    },
    {
      "cell_type": "code",
      "execution_count": null,
      "metadata": {
        "id": "5mkYRP15-iCD"
      },
      "outputs": [],
      "source": [
        "from sklearn.model_selection import train_test_split\n",
        "from sklearn.tree import DecisionTreeClassifier\n",
        "from sklearn.metrics import accuracy_score, classification_report"
      ]
    },
    {
      "cell_type": "code",
      "execution_count": null,
      "metadata": {
        "id": "tsTB7WTD-l_8"
      },
      "outputs": [],
      "source": [
        "# Define features (location data) and target variable\n",
        "# 'Latitude'= Y and 'Longitude'= X\n",
        "features = ['Y_Coordinate', 'X_Coordinate']\n",
        "target = 'HighRisk'  # Create a binary 'HighRisk' column where 1 indicates high risk and 0 indicates low risk\n"
      ]
    },
    {
      "cell_type": "code",
      "execution_count": null,
      "metadata": {
        "id": "_M-ohh8c_tAS"
      },
      "outputs": [],
      "source": [
        "# Split data into training and testing sets 80 : 20\n",
        "X = vehicle_df[features]\n",
        "y = vehicle_df[target]\n",
        "X_train, X_test, y_train, y_test = train_test_split(X, y, test_size=0.2, random_state=42)"
      ]
    },
    {
      "cell_type": "code",
      "execution_count": null,
      "metadata": {
        "colab": {
          "base_uri": "https://localhost:8080/"
        },
        "id": "A2q4g1NsO5oD",
        "outputId": "8374462d-32c7-4dca-f004-bea20e943f87"
      },
      "outputs": [
        {
          "name": "stdout",
          "output_type": "stream",
          "text": [
            "Shape of X_train: (8765, 2)\n",
            "Shape of X_test: (2192, 2)\n",
            "Shape of y_train: (8765,)\n",
            "Shape of y_test: (2192,)\n"
          ]
        }
      ],
      "source": [
        "print(\"Shape of X_train:\", X_train.shape)\n",
        "print(\"Shape of X_test:\", X_test.shape)\n",
        "print(\"Shape of y_train:\", y_train.shape)\n",
        "print(\"Shape of y_test:\", y_test.shape)"
      ]
    },
    {
      "cell_type": "code",
      "execution_count": null,
      "metadata": {
        "colab": {
          "base_uri": "https://localhost:8080/",
          "height": 75
        },
        "id": "mf8UrK1ME2qQ",
        "outputId": "5f5f7ea7-5b07-4f03-80e9-e5e61feae791"
      },
      "outputs": [
        {
          "data": {
            "text/html": [
              "<style>#sk-container-id-1 {color: black;background-color: white;}#sk-container-id-1 pre{padding: 0;}#sk-container-id-1 div.sk-toggleable {background-color: white;}#sk-container-id-1 label.sk-toggleable__label {cursor: pointer;display: block;width: 100%;margin-bottom: 0;padding: 0.3em;box-sizing: border-box;text-align: center;}#sk-container-id-1 label.sk-toggleable__label-arrow:before {content: \"▸\";float: left;margin-right: 0.25em;color: #696969;}#sk-container-id-1 label.sk-toggleable__label-arrow:hover:before {color: black;}#sk-container-id-1 div.sk-estimator:hover label.sk-toggleable__label-arrow:before {color: black;}#sk-container-id-1 div.sk-toggleable__content {max-height: 0;max-width: 0;overflow: hidden;text-align: left;background-color: #f0f8ff;}#sk-container-id-1 div.sk-toggleable__content pre {margin: 0.2em;color: black;border-radius: 0.25em;background-color: #f0f8ff;}#sk-container-id-1 input.sk-toggleable__control:checked~div.sk-toggleable__content {max-height: 200px;max-width: 100%;overflow: auto;}#sk-container-id-1 input.sk-toggleable__control:checked~label.sk-toggleable__label-arrow:before {content: \"▾\";}#sk-container-id-1 div.sk-estimator input.sk-toggleable__control:checked~label.sk-toggleable__label {background-color: #d4ebff;}#sk-container-id-1 div.sk-label input.sk-toggleable__control:checked~label.sk-toggleable__label {background-color: #d4ebff;}#sk-container-id-1 input.sk-hidden--visually {border: 0;clip: rect(1px 1px 1px 1px);clip: rect(1px, 1px, 1px, 1px);height: 1px;margin: -1px;overflow: hidden;padding: 0;position: absolute;width: 1px;}#sk-container-id-1 div.sk-estimator {font-family: monospace;background-color: #f0f8ff;border: 1px dotted black;border-radius: 0.25em;box-sizing: border-box;margin-bottom: 0.5em;}#sk-container-id-1 div.sk-estimator:hover {background-color: #d4ebff;}#sk-container-id-1 div.sk-parallel-item::after {content: \"\";width: 100%;border-bottom: 1px solid gray;flex-grow: 1;}#sk-container-id-1 div.sk-label:hover label.sk-toggleable__label {background-color: #d4ebff;}#sk-container-id-1 div.sk-serial::before {content: \"\";position: absolute;border-left: 1px solid gray;box-sizing: border-box;top: 0;bottom: 0;left: 50%;z-index: 0;}#sk-container-id-1 div.sk-serial {display: flex;flex-direction: column;align-items: center;background-color: white;padding-right: 0.2em;padding-left: 0.2em;position: relative;}#sk-container-id-1 div.sk-item {position: relative;z-index: 1;}#sk-container-id-1 div.sk-parallel {display: flex;align-items: stretch;justify-content: center;background-color: white;position: relative;}#sk-container-id-1 div.sk-item::before, #sk-container-id-1 div.sk-parallel-item::before {content: \"\";position: absolute;border-left: 1px solid gray;box-sizing: border-box;top: 0;bottom: 0;left: 50%;z-index: -1;}#sk-container-id-1 div.sk-parallel-item {display: flex;flex-direction: column;z-index: 1;position: relative;background-color: white;}#sk-container-id-1 div.sk-parallel-item:first-child::after {align-self: flex-end;width: 50%;}#sk-container-id-1 div.sk-parallel-item:last-child::after {align-self: flex-start;width: 50%;}#sk-container-id-1 div.sk-parallel-item:only-child::after {width: 0;}#sk-container-id-1 div.sk-dashed-wrapped {border: 1px dashed gray;margin: 0 0.4em 0.5em 0.4em;box-sizing: border-box;padding-bottom: 0.4em;background-color: white;}#sk-container-id-1 div.sk-label label {font-family: monospace;font-weight: bold;display: inline-block;line-height: 1.2em;}#sk-container-id-1 div.sk-label-container {text-align: center;}#sk-container-id-1 div.sk-container {/* jupyter's `normalize.less` sets `[hidden] { display: none; }` but bootstrap.min.css set `[hidden] { display: none !important; }` so we also need the `!important` here to be able to override the default hidden behavior on the sphinx rendered scikit-learn.org. See: https://github.com/scikit-learn/scikit-learn/issues/21755 */display: inline-block !important;position: relative;}#sk-container-id-1 div.sk-text-repr-fallback {display: none;}</style><div id=\"sk-container-id-1\" class=\"sk-top-container\"><div class=\"sk-text-repr-fallback\"><pre>DecisionTreeClassifier(random_state=42)</pre><b>In a Jupyter environment, please rerun this cell to show the HTML representation or trust the notebook. <br />On GitHub, the HTML representation is unable to render, please try loading this page with nbviewer.org.</b></div><div class=\"sk-container\" hidden><div class=\"sk-item\"><div class=\"sk-estimator sk-toggleable\"><input class=\"sk-toggleable__control sk-hidden--visually\" id=\"sk-estimator-id-1\" type=\"checkbox\" checked><label for=\"sk-estimator-id-1\" class=\"sk-toggleable__label sk-toggleable__label-arrow\">DecisionTreeClassifier</label><div class=\"sk-toggleable__content\"><pre>DecisionTreeClassifier(random_state=42)</pre></div></div></div></div></div>"
            ],
            "text/plain": [
              "DecisionTreeClassifier(random_state=42)"
            ]
          },
          "execution_count": 24,
          "metadata": {},
          "output_type": "execute_result"
        }
      ],
      "source": [
        "# Create and train a Decision Tree Classifier\n",
        "clf = DecisionTreeClassifier(random_state=42)\n",
        "clf.fit(X_train, y_train)"
      ]
    },
    {
      "cell_type": "code",
      "execution_count": null,
      "metadata": {
        "id": "twJvcIk2E4sj"
      },
      "outputs": [],
      "source": [
        "# Make predictions\n",
        "y_pred = clf.predict(X_test)"
      ]
    },
    {
      "cell_type": "code",
      "execution_count": null,
      "metadata": {
        "id": "rOFkK2DYE6Y7"
      },
      "outputs": [],
      "source": [
        "# Evaluate the model\n",
        "accuracy = accuracy_score(y_test, y_pred)\n",
        "classification_rep = classification_report(y_test, y_pred)"
      ]
    },
    {
      "cell_type": "code",
      "execution_count": null,
      "metadata": {
        "colab": {
          "base_uri": "https://localhost:8080/"
        },
        "id": "pJfUFaP3FGmG",
        "outputId": "50537224-67b8-4be6-fd07-9f5e28d14368"
      },
      "outputs": [
        {
          "name": "stdout",
          "output_type": "stream",
          "text": [
            "Accuracy: 1.0\n",
            "Classification Report:\n",
            "              precision    recall  f1-score   support\n",
            "\n",
            "           0       1.00      1.00      1.00      2192\n",
            "\n",
            "    accuracy                           1.00      2192\n",
            "   macro avg       1.00      1.00      1.00      2192\n",
            "weighted avg       1.00      1.00      1.00      2192\n",
            "\n"
          ]
        }
      ],
      "source": [
        "# Print accuracy and classification report\n",
        "print(f\"Accuracy: {accuracy}\")\n",
        "print(\"Classification Report:\")\n",
        "print(classification_rep)"
      ]
    }
  ],
  "metadata": {
    "colab": {
      "authorship_tag": "ABX9TyMDe0ioCH6y1OvLaiA31Pdz",
      "include_colab_link": true,
      "provenance": []
    },
    "kernelspec": {
      "display_name": "Python 3",
      "name": "python3"
    },
    "language_info": {
      "codemirror_mode": {
        "name": "ipython",
        "version": 3
      },
      "file_extension": ".py",
      "mimetype": "text/x-python",
      "name": "python",
      "nbconvert_exporter": "python",
      "pygments_lexer": "ipython3",
      "version": "3.10.13"
    }
  },
  "nbformat": 4,
  "nbformat_minor": 0
}
