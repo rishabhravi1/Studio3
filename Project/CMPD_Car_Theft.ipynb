{
  "cells": [
    {
      "cell_type": "markdown",
      "metadata": {
        "id": "DoMNnIgSujXH"
      },
      "source": [
        "# CMPD Car Theft Project\n",
        "\n",
        "## By: Connor , Waqas, Issam , Rishabh\n",
        "---\n",
        "\n",
        "\n"
      ]
    },
    {
      "cell_type": "markdown",
      "metadata": {
        "id": "VRz6nK4Mvlj5"
      },
      "source": [
        "### Importing required libraries and data"
      ]
    },
    {
      "cell_type": "code",
      "execution_count": 1,
      "metadata": {
        "colab": {
          "base_uri": "https://localhost:8080/"
        },
        "id": "5siDjUTuYs5T",
        "outputId": "afbe0a19-0ccb-4193-9c5d-486ca93d014d"
      },
      "outputs": [
        {
          "name": "stdout",
          "output_type": "stream",
          "text": [
            "Intel MKL WARNING: Support of Intel(R) Streaming SIMD Extensions 4.2 (Intel(R) SSE4.2) enabled only processors has been deprecated. Intel oneAPI Math Kernel Library 2025.0 will require Intel(R) Advanced Vector Extensions (Intel(R) AVX) instructions.\n",
            "Intel MKL WARNING: Support of Intel(R) Streaming SIMD Extensions 4.2 (Intel(R) SSE4.2) enabled only processors has been deprecated. Intel oneAPI Math Kernel Library 2025.0 will require Intel(R) Advanced Vector Extensions (Intel(R) AVX) instructions.\n"
          ]
        }
      ],
      "source": [
        "# Import Libraries\n",
        "import pandas as pd\n",
        "import numpy as np\n",
        "import matplotlib.pyplot as plt\n",
        "#import seaborn as sns\n",
        "%matplotlib inline\n",
        "import warnings\n",
        "warnings.filterwarnings('ignore')"
      ]
    },
    {
      "cell_type": "code",
      "execution_count": null,
      "metadata": {
        "colab": {
          "base_uri": "https://localhost:8080/",
          "height": 407
        },
        "id": "nEpFTLtNv0bn",
        "outputId": "64e2fb2e-caa4-4641-c665-f9b968c6f590"
      },
      "outputs": [],
      "source": [
        "# Loading the 2011 Data\n",
        "\n",
        "# 2011 Incident Data\n",
        "incident_2011 = pd.read_csv(\"2011_Incident.csv\")\n",
        "\n",
        "# 2012 Incident Data\n",
        "incident_2012 = pd.read_csv(\"2012_Incident.csv\")\n",
        "\n",
        "# 2013 Incident Data\n",
        "incident_2013 = pd.read_csv(\"2013_Incident.csv\")\n",
        "\n",
        "# 2014 Incident Data\n",
        "incident_2014 = pd.read_csv(\"2014_Incident.csv\")\n",
        "\n",
        "# 2015 Incident Data\n",
        "incident_2015 = pd.read_csv(\"2015_Incident.csv\")\n",
        "\n",
        "# 2016 Incident Data\n",
        "incident_2016 = pd.read_csv(\"2016_Incident.csv\")\n"
      ]
    },
    {
      "cell_type": "code",
      "execution_count": null,
      "metadata": {
        "id": "l4vHLclgo-Pj"
      },
      "outputs": [],
      "source": []
    },
    {
      "cell_type": "markdown",
      "metadata": {
        "id": "8fu30LiCwR9K"
      },
      "source": [
        "## Exploratory Data Analysis (EDA)"
      ]
    },
    {
      "cell_type": "markdown",
      "metadata": {
        "id": "n25psgiQeOko"
      },
      "source": [
        "Merging all CMPD Data (2011-2016)"
      ]
    },
    {
      "cell_type": "code",
      "execution_count": null,
      "metadata": {
        "id": "io-zr5vmKtmI"
      },
      "outputs": [],
      "source": [
        "# merging all the data sets into one\n",
        "vehicle_df = pd.concat([incident_2011, incident_2012, incident_2013, incident_2014, incident_2015, incident_2016], ignore_index=True)\n"
      ]
    },
    {
      "cell_type": "code",
      "execution_count": null,
      "metadata": {
        "colab": {
          "base_uri": "https://localhost:8080/",
          "height": 446
        },
        "id": "1TjCfRAMxQeU",
        "outputId": "5bca9470-6e92-4c77-f44f-825c54971b51"
      },
      "outputs": [],
      "source": [
        "vehicle_df.head()"
      ]
    },
    {
      "cell_type": "code",
      "execution_count": null,
      "metadata": {
        "colab": {
          "base_uri": "https://localhost:8080/",
          "height": 175
        },
        "id": "TSR4RWsLouLb",
        "outputId": "061423ba-6310-4320-c47c-eedbd3ad08ca"
      },
      "outputs": [],
      "source": [
        "vehicle_df[['X_Coordinate','Y_Coordinate']]"
      ]
    },
    {
      "cell_type": "code",
      "execution_count": null,
      "metadata": {
        "colab": {
          "base_uri": "https://localhost:8080/"
        },
        "id": "cheXiW5MwXY1",
        "outputId": "871e2c38-2191-42c4-ab78-47d298ec363c"
      },
      "outputs": [],
      "source": [
        "vehicle_df.info()"
      ]
    },
    {
      "cell_type": "code",
      "execution_count": null,
      "metadata": {
        "colab": {
          "base_uri": "https://localhost:8080/"
        },
        "id": "ORshGhmK1bhS",
        "outputId": "32db07ed-f3b0-402c-b79b-5a92db812d3a"
      },
      "outputs": [],
      "source": [
        "print(vehicle_df.columns)"
      ]
    },
    {
      "cell_type": "markdown",
      "metadata": {
        "id": "3g9oOatX2MLA"
      },
      "source": [
        "We need to combine 'Direction', 'Street Name' and 'Street Type' into 1 column called 'Street Address'"
      ]
    },
    {
      "cell_type": "code",
      "execution_count": null,
      "metadata": {
        "id": "wb_g57jV1m2y"
      },
      "outputs": [],
      "source": [
        "# Combining Direction, Street_Name, Street_Type into Street_Address\n",
        "vehicle_df.loc[:, 'Street_Address'] = vehicle_df['Direction'] + ' ' + vehicle_df['Street_Name'] + ' ' + vehicle_df['Street_Type']\n"
      ]
    },
    {
      "cell_type": "markdown",
      "metadata": {
        "id": "Q60-MF1emREO"
      },
      "source": [
        "We can get rid of all the extra columns that are not very relevant to our project.\n"
      ]
    },
    {
      "cell_type": "code",
      "execution_count": null,
      "metadata": {
        "id": "rhJqjw-poAnD"
      },
      "outputs": [],
      "source": [
        "# Adjusting the columns we want in our dataset\n",
        "columns_to_keep = ['Street_Address','Zipcode','X_Coordinate','Y_Coordinate','NIBRS_Hi_Class']\n",
        "\n",
        "vehicle_df = vehicle_df[columns_to_keep]"
      ]
    },
    {
      "cell_type": "code",
      "execution_count": null,
      "metadata": {
        "colab": {
          "base_uri": "https://localhost:8080/",
          "height": 206
        },
        "id": "Td2FzRl641X-",
        "outputId": "944de0d5-307b-4521-8b59-c69e30edefe3"
      },
      "outputs": [],
      "source": [
        "vehicle_df.head()"
      ]
    },
    {
      "cell_type": "code",
      "execution_count": null,
      "metadata": {
        "colab": {
          "base_uri": "https://localhost:8080/"
        },
        "id": "9wDw2HIBjtQo",
        "outputId": "acf8975c-1fe9-42c9-aa39-7580aca0892f"
      },
      "outputs": [],
      "source": [
        "# Displaying unique values in the 'NIBRS_Hi_Class' column\n",
        "print(vehicle_df['NIBRS_Hi_Class'].unique())\n"
      ]
    },
    {
      "cell_type": "code",
      "execution_count": null,
      "metadata": {
        "colab": {
          "base_uri": "https://localhost:8080/",
          "height": 520
        },
        "id": "yvMjJjTSllHg",
        "outputId": "c46f2453-e6e2-4a0d-e579-41e17ab0ac69"
      },
      "outputs": [],
      "source": [
        "# filtering by 'Motor Vehicle Theft'\n",
        "vehicle_df['NIBRS_Hi_Class'] = vehicle_df['NIBRS_Hi_Class'].str.strip()\n",
        "vehicle_df = vehicle_df[vehicle_df['NIBRS_Hi_Class'].str.contains('Motor Vehicle Theft', case=False)]\n",
        "\n",
        "vehicle_df.head(15)"
      ]
    },
    {
      "cell_type": "markdown",
      "metadata": {
        "id": "kIKmO7bIQdQk"
      },
      "source": [
        "We have some empty values under 'Zipcode' , 'X_Coordinate' , and 'Y_Coordinate' that we have to deal with:\n",
        " * Most of them are empty strings and whitespaces\n",
        "\n",
        "* Idealy we could use the X & Y coordinates to fill in the missing zip codes. Or fill in the missing information by using the street address. However this would take some time and we are on a bit of a time crunch, so we chose to remove rows entirely with missing data.\n",
        "\n",
        "* Although this gives us less data to work with, we'd rather have accurate data that will work well with modeling than tons of information that will cause problems.\n",
        "\n",
        "\n"
      ]
    },
    {
      "cell_type": "code",
      "execution_count": null,
      "metadata": {
        "colab": {
          "base_uri": "https://localhost:8080/"
        },
        "id": "E4IXnCn7PUuQ",
        "outputId": "3d303193-47fa-4d9e-f8c3-efd44096cbe8"
      },
      "outputs": [],
      "source": [
        "# Remove rows with NaN values\n",
        "vehicle_df = vehicle_df.dropna()\n",
        "\n",
        "# Remove rows with empty strings\n",
        "vehicle_df = vehicle_df[~vehicle_df.apply(lambda row: row.str.strip().eq('').any(), axis=1)]\n",
        "\n",
        "# Checking the cleaned DataFrame\n",
        "print(vehicle_df)\n",
        "vehicle_df.head(15)\n",
        "\n",
        "# Creating a combined csv\n",
        "vehicle_df.to_csv('Vehicle_Theft.csv', index=False)"
      ]
    },
    {
      "cell_type": "markdown",
      "metadata": {
        "id": "8NhOPwxYU_xU"
      },
      "source": [
        "## Visualizations"
      ]
    },
    {
      "cell_type": "code",
      "execution_count": null,
      "metadata": {
        "id": "TYpMuSzbXA5l"
      },
      "outputs": [],
      "source": [
        "import folium\n",
        "import geopandas as gpd"
      ]
    },
    {
      "cell_type": "code",
      "execution_count": null,
      "metadata": {
        "id": "AwJdWEK8dXB6"
      },
      "outputs": [],
      "source": [
        "m = folium.Map(location=[vehicle_df['Y_Coordinate'].mean(), vehicle_df['X_Coordinate'].mean()], zoom_start=10)\n"
      ]
    },
    {
      "cell_type": "code",
      "execution_count": null,
      "metadata": {
        "id": "-5q3hgd9dxKP"
      },
      "outputs": [],
      "source": [
        "for index, row in vehicle_df.iterrows():\n",
        "    folium.Marker([row['Y_Coordinate'], row['X_Coordinate']], tooltip=row['NIBRS_Hi_Class']).add_to(m)\n",
        "\n",
        "# Display the map\n",
        "m.save('vehicle_theft_map.html')"
      ]
    },
    {
      "cell_type": "markdown",
      "metadata": {
        "id": "mUIaKVwqfazd"
      },
      "source": [
        "## Machine Learning Model (In Progress)"
      ]
    },
    {
      "cell_type": "code",
      "execution_count": null,
      "metadata": {
        "id": "964EUirgfg-k"
      },
      "outputs": [],
      "source": [
        "from sklearn.model_selection import train_test_split\n",
        "from sklearn.ensemble import RandomForestClassifier\n",
        "from sklearn.metrics import accuracy_score, classification_report\n",
        "\n",
        "X = vehicle_df[['Y_Coordinate', 'X_Coordinate']]  # Features\n",
        "y = vehicle_df['Zipcode']  # Target variable"
      ]
    },
    {
      "cell_type": "code",
      "execution_count": null,
      "metadata": {
        "id": "2iT0UMVviTDy"
      },
      "outputs": [],
      "source": [
        "# Split data into training and testing sets\n",
        "X_train, X_test, y_train, y_test = train_test_split(X, y, test_size=0.2, random_state=42)"
      ]
    },
    {
      "cell_type": "code",
      "execution_count": null,
      "metadata": {
        "colab": {
          "base_uri": "https://localhost:8080/",
          "height": 75
        },
        "id": "2lQMWP1fiZuG",
        "outputId": "cf06347d-8c0c-4d7b-ab2a-52e7bc774a88"
      },
      "outputs": [],
      "source": [
        "# Build a RandomForestClassifier (you can use other classifiers as well)\n",
        "clf = RandomForestClassifier(random_state=42)\n",
        "clf.fit(X_train, y_train)"
      ]
    },
    {
      "cell_type": "code",
      "execution_count": null,
      "metadata": {
        "id": "oYyRUJkUjmnK"
      },
      "outputs": [],
      "source": [
        "# Make predictions and evaluate the model\n",
        "y_pred = clf.predict(X_test)\n",
        "accuracy = accuracy_score(y_test, y_pred)\n",
        "classification_rep = classification_report(y_test, y_pred)"
      ]
    },
    {
      "cell_type": "code",
      "execution_count": null,
      "metadata": {
        "colab": {
          "base_uri": "https://localhost:8080/"
        },
        "id": "pKO-Iph5jtIy",
        "outputId": "b3571423-064f-442f-bf33-07403b17bdcf"
      },
      "outputs": [],
      "source": [
        "# Print accuracy and classification report\n",
        "print(f\"Accuracy: {accuracy}\")\n",
        "print(\"Classification Report:\")\n",
        "print(classification_rep)"
      ]
    },
    {
      "cell_type": "code",
      "execution_count": null,
      "metadata": {
        "id": "54vNTVmMjwt5"
      },
      "outputs": [],
      "source": [
        "# Predictive Mapping\n",
        "# Create a grid of locations for predictions\n",
        "# Replace with your shapefile\n",
        "# Create a GeoDataFrame from the shapefile\n",
        "grid = gpd.GeoDataFrame.from_file('Census_Tracts_2020.shx')\n"
      ]
    },
    {
      "cell_type": "code",
      "execution_count": null,
      "metadata": {
        "colab": {
          "base_uri": "https://localhost:8080/",
          "height": 339
        },
        "id": "K53z20_Lj7l8",
        "outputId": "bbdbe869-0cb9-43e5-cc15-0f84ea12e7ee"
      },
      "outputs": [],
      "source": [
        "# Use the model to predict likelihood of vehicle theft for each location in the grid\n",
        "grid['predicted_theft_likelihood'] = clf.predict_proba(grid[['Latitude', 'Longitude']])[:, 1]\n"
      ]
    },
    {
      "cell_type": "code",
      "execution_count": null,
      "metadata": {
        "id": "HhJzJtwmj_mD"
      },
      "outputs": [],
      "source": [
        "# Heatmaps and Visualizations\n",
        "# Visualize predicted likelihood of vehicle theft on the map\n",
        "fig, ax = plt.subplots(figsize=(10, 10))\n",
        "grid.plot(column='predicted_theft_likelihood', cmap='coolwarm', linewidth=0.8, ax=ax, legend=True)\n",
        "plt.title(\"Predicted Likelihood of Vehicle Theft\")\n",
        "plt.show()"
      ]
    }
  ],
  "metadata": {
    "colab": {
      "include_colab_link": true,
      "provenance": []
    },
    "kernelspec": {
      "display_name": "Python 3",
      "name": "python3"
    },
    "language_info": {
      "codemirror_mode": {
        "name": "ipython",
        "version": 3
      },
      "file_extension": ".py",
      "mimetype": "text/x-python",
      "name": "python",
      "nbconvert_exporter": "python",
      "pygments_lexer": "ipython3",
      "version": "3.11.5"
    }
  },
  "nbformat": 4,
  "nbformat_minor": 0
}
