{
  "cells": [
    {
      "cell_type": "markdown",
      "metadata": {
        "colab_type": "text",
        "id": "view-in-github"
      },
      "source": [
        "<a href=\"https://colab.research.google.com/github/rishabhravi1/Studio3/blob/main/CMPD_Car_Theft.ipynb\" target=\"_parent\"><img src=\"https://colab.research.google.com/assets/colab-badge.svg\" alt=\"Open In Colab\"/></a>"
      ]
    },
    {
      "cell_type": "markdown",
      "metadata": {
        "id": "DoMNnIgSujXH"
      },
      "source": [
        "# CMPD Car Theft Project\n",
        "\n",
        "## By: Connor , Waqas, Issam , Rishabh\n",
        "---\n",
        "\n",
        "\n"
      ]
    },
    {
      "cell_type": "markdown",
      "metadata": {
        "id": "VRz6nK4Mvlj5"
      },
      "source": [
        "### Importing required libraries and data"
      ]
    },
    {
      "cell_type": "code",
      "execution_count": 2,
      "metadata": {
        "colab": {
          "base_uri": "https://localhost:8080/"
        },
        "id": "5siDjUTuYs5T",
        "outputId": "afbe0a19-0ccb-4193-9c5d-486ca93d014d"
      },
      "outputs": [],
      "source": [
        "# Import Libraries\n",
        "import pandas as pd\n",
        "import numpy as np\n",
        "import seaborn as sns\n",
        "import matplotlib.pyplot as plt\n",
        "%matplotlib inline\n",
        "import warnings\n",
        "warnings.filterwarnings('ignore')"
      ]
    },
    {
      "cell_type": "code",
      "execution_count": 6,
      "metadata": {
        "colab": {
          "base_uri": "https://localhost:8080/",
          "height": 407
        },
        "id": "nEpFTLtNv0bn",
        "outputId": "64e2fb2e-caa4-4641-c665-f9b968c6f590"
      },
      "outputs": [],
      "source": [
        "# Loading the 2011 Data\n",
        "\n",
        "# 2011 Incident Data\n",
        "incident_2011 = pd.read_csv(\"2011_Incident.csv\")\n",
        "\n",
        "# 2012 Incident Data\n",
        "incident_2012 = pd.read_csv(\"2012_Incident.csv\")\n",
        "\n",
        "# 2013 Incident Data\n",
        "incident_2013 = pd.read_csv(\"2013_Incident.csv\")\n",
        "\n",
        "# 2014 Incident Data\n",
        "incident_2014 = pd.read_csv(\"2014_Incident.csv\")\n",
        "\n",
        "# 2015 Incident Data\n",
        "incident_2015 = pd.read_csv(\"2015_Incident.csv\")\n",
        "\n",
        "# 2016 Incident Data\n",
        "incident_2016 = pd.read_csv(\"2016_Incident.csv\")\n"
      ]
    },
    {
      "cell_type": "code",
      "execution_count": null,
      "metadata": {
        "id": "l4vHLclgo-Pj"
      },
      "outputs": [],
      "source": []
    },
    {
      "cell_type": "markdown",
      "metadata": {
        "id": "8fu30LiCwR9K"
      },
      "source": [
        "## Exploratory Data Analysis (EDA)"
      ]
    },
    {
      "cell_type": "markdown",
      "metadata": {
        "id": "n25psgiQeOko"
      },
      "source": [
        "Merging all CMPD Data (2011-2016)"
      ]
    },
    {
      "cell_type": "code",
      "execution_count": 7,
      "metadata": {
        "id": "io-zr5vmKtmI"
      },
      "outputs": [],
      "source": [
        "# merging all the data sets into one\n",
        "vehicle_df = pd.concat([incident_2011, incident_2012, incident_2013, incident_2014, incident_2015, incident_2016], ignore_index=True)\n"
      ]
    },
    {
      "cell_type": "code",
      "execution_count": 8,
      "metadata": {
        "colab": {
          "base_uri": "https://localhost:8080/",
          "height": 446
        },
        "id": "1TjCfRAMxQeU",
        "outputId": "5bca9470-6e92-4c77-f44f-825c54971b51"
      },
      "outputs": [
        {
          "data": {
            "text/html": [
              "<div>\n",
              "<style scoped>\n",
              "    .dataframe tbody tr th:only-of-type {\n",
              "        vertical-align: middle;\n",
              "    }\n",
              "\n",
              "    .dataframe tbody tr th {\n",
              "        vertical-align: top;\n",
              "    }\n",
              "\n",
              "    .dataframe thead th {\n",
              "        text-align: right;\n",
              "    }\n",
              "</style>\n",
              "<table border=\"1\" class=\"dataframe\">\n",
              "  <thead>\n",
              "    <tr style=\"text-align: right;\">\n",
              "      <th></th>\n",
              "      <th>Complaint_No</th>\n",
              "      <th>Block_No</th>\n",
              "      <th>Direction</th>\n",
              "      <th>Street_Name</th>\n",
              "      <th>Street_Type</th>\n",
              "      <th>Suffix</th>\n",
              "      <th>Apt_No</th>\n",
              "      <th>City</th>\n",
              "      <th>State</th>\n",
              "      <th>Zipcode</th>\n",
              "      <th>...</th>\n",
              "      <th>Clearance_Status</th>\n",
              "      <th>Clearance_Date</th>\n",
              "      <th>Case_Status</th>\n",
              "      <th>Reporting_Agency</th>\n",
              "      <th>Follow_up_Section</th>\n",
              "      <th>NIBRS_Hi_Class</th>\n",
              "      <th>Incident_From_Time</th>\n",
              "      <th>Incident_to_Time</th>\n",
              "      <th>Unnamed: 28</th>\n",
              "      <th>Unnamed: 29</th>\n",
              "    </tr>\n",
              "  </thead>\n",
              "  <tbody>\n",
              "    <tr>\n",
              "      <th>0</th>\n",
              "      <td>20110101000308</td>\n",
              "      <td>4425</td>\n",
              "      <td></td>\n",
              "      <td>EDDLEMAN</td>\n",
              "      <td>RD</td>\n",
              "      <td></td>\n",
              "      <td></td>\n",
              "      <td>CHARLOTTE</td>\n",
              "      <td>NC</td>\n",
              "      <td>28208</td>\n",
              "      <td>...</td>\n",
              "      <td>Normal Clearance - Cleared by Arrest          ...</td>\n",
              "      <td>1/1/2011</td>\n",
              "      <td>Close/Cleared</td>\n",
              "      <td>Charlotte-Mecklenburg Police Department</td>\n",
              "      <td>27-FREEDOM DIVISION                           ...</td>\n",
              "      <td>Drug Equipment Violations                     ...</td>\n",
              "      <td>NaN</td>\n",
              "      <td>NaN</td>\n",
              "      <td>NaN</td>\n",
              "      <td>NaN</td>\n",
              "    </tr>\n",
              "    <tr>\n",
              "      <th>1</th>\n",
              "      <td>20110101000700</td>\n",
              "      <td>2228</td>\n",
              "      <td></td>\n",
              "      <td>BEATTIES FORD</td>\n",
              "      <td>RD</td>\n",
              "      <td></td>\n",
              "      <td></td>\n",
              "      <td>CHARLOTTE</td>\n",
              "      <td>NC</td>\n",
              "      <td>28216</td>\n",
              "      <td>...</td>\n",
              "      <td>Normal Clearance - Cleared by Arrest          ...</td>\n",
              "      <td>1/1/2011</td>\n",
              "      <td>Close/Cleared</td>\n",
              "      <td>Charlotte-Mecklenburg Police Department</td>\n",
              "      <td>02-METRO DIVISION                             ...</td>\n",
              "      <td>Aggravated Assault                            ...</td>\n",
              "      <td>NaN</td>\n",
              "      <td>NaN</td>\n",
              "      <td>NaN</td>\n",
              "      <td>NaN</td>\n",
              "    </tr>\n",
              "    <tr>\n",
              "      <th>2</th>\n",
              "      <td>20110101001104</td>\n",
              "      <td>2300</td>\n",
              "      <td>N</td>\n",
              "      <td>TRYON</td>\n",
              "      <td>ST</td>\n",
              "      <td></td>\n",
              "      <td></td>\n",
              "      <td>CHARLOTTE</td>\n",
              "      <td>NC</td>\n",
              "      <td></td>\n",
              "      <td>...</td>\n",
              "      <td>Open                                          ...</td>\n",
              "      <td></td>\n",
              "      <td>Inactive</td>\n",
              "      <td>Charlotte-Mecklenburg Police Department</td>\n",
              "      <td>02-METRO DIVISION                             ...</td>\n",
              "      <td>Damage/Vandalism Of Property                  ...</td>\n",
              "      <td>NaN</td>\n",
              "      <td>NaN</td>\n",
              "      <td>NaN</td>\n",
              "      <td>NaN</td>\n",
              "    </tr>\n",
              "    <tr>\n",
              "      <th>3</th>\n",
              "      <td>20110101001302</td>\n",
              "      <td>4027</td>\n",
              "      <td></td>\n",
              "      <td>QUAIL GLENN</td>\n",
              "      <td>CT</td>\n",
              "      <td></td>\n",
              "      <td>K</td>\n",
              "      <td>CHARLOTTE</td>\n",
              "      <td>NC</td>\n",
              "      <td>28226</td>\n",
              "      <td>...</td>\n",
              "      <td>Open                                          ...</td>\n",
              "      <td></td>\n",
              "      <td>Inactive</td>\n",
              "      <td>Charlotte-Mecklenburg Police Department</td>\n",
              "      <td>22-SOUTH DIVISION                             ...</td>\n",
              "      <td>Burglary/B&amp;E                                  ...</td>\n",
              "      <td>NaN</td>\n",
              "      <td>NaN</td>\n",
              "      <td>NaN</td>\n",
              "      <td>NaN</td>\n",
              "    </tr>\n",
              "    <tr>\n",
              "      <th>4</th>\n",
              "      <td>20110101002401</td>\n",
              "      <td>150</td>\n",
              "      <td>S</td>\n",
              "      <td>COLLEGE</td>\n",
              "      <td>ST</td>\n",
              "      <td></td>\n",
              "      <td></td>\n",
              "      <td>CHARLOTTE</td>\n",
              "      <td>NC</td>\n",
              "      <td>28202</td>\n",
              "      <td>...</td>\n",
              "      <td>Normal Clearance - Cleared by Arrest          ...</td>\n",
              "      <td>1/1/2011</td>\n",
              "      <td>Close/Cleared</td>\n",
              "      <td>Charlotte-Mecklenburg Police Department</td>\n",
              "      <td>01-CENTRAL DIVISION                           ...</td>\n",
              "      <td>Affray                                        ...</td>\n",
              "      <td>NaN</td>\n",
              "      <td>NaN</td>\n",
              "      <td>NaN</td>\n",
              "      <td>NaN</td>\n",
              "    </tr>\n",
              "  </tbody>\n",
              "</table>\n",
              "<p>5 rows × 30 columns</p>\n",
              "</div>"
            ],
            "text/plain": [
              "     Complaint_No Block_No Direction  \\\n",
              "0  20110101000308     4425             \n",
              "1  20110101000700     2228             \n",
              "2  20110101001104     2300        N    \n",
              "3  20110101001302     4027             \n",
              "4  20110101002401      150        S    \n",
              "\n",
              "                                Street_Name Street_Type    Suffix      Apt_No  \\\n",
              "0  EDDLEMAN                                          RD                         \n",
              "1  BEATTIES FORD                                     RD                         \n",
              "2  TRYON                                             ST                         \n",
              "3  QUAIL GLENN                                       CT            K            \n",
              "4  COLLEGE                                           ST                         \n",
              "\n",
              "                                       City State       Zipcode  ...  \\\n",
              "0  CHARLOTTE                                   NC         28208  ...   \n",
              "1  CHARLOTTE                                   NC         28216  ...   \n",
              "2  CHARLOTTE                                   NC                ...   \n",
              "3  CHARLOTTE                                   NC         28226  ...   \n",
              "4  CHARLOTTE                                   NC         28202  ...   \n",
              "\n",
              "                                    Clearance_Status Clearance_Date  \\\n",
              "0  Normal Clearance - Cleared by Arrest          ...       1/1/2011   \n",
              "1  Normal Clearance - Cleared by Arrest          ...       1/1/2011   \n",
              "2  Open                                          ...                  \n",
              "3  Open                                          ...                  \n",
              "4  Normal Clearance - Cleared by Arrest          ...       1/1/2011   \n",
              "\n",
              "                 Case_Status                               Reporting_Agency  \\\n",
              "0  Close/Cleared              Charlotte-Mecklenburg Police Department         \n",
              "1  Close/Cleared              Charlotte-Mecklenburg Police Department         \n",
              "2  Inactive                   Charlotte-Mecklenburg Police Department         \n",
              "3  Inactive                   Charlotte-Mecklenburg Police Department         \n",
              "4  Close/Cleared              Charlotte-Mecklenburg Police Department         \n",
              "\n",
              "                                   Follow_up_Section  \\\n",
              "0  27-FREEDOM DIVISION                           ...   \n",
              "1  02-METRO DIVISION                             ...   \n",
              "2  02-METRO DIVISION                             ...   \n",
              "3  22-SOUTH DIVISION                             ...   \n",
              "4  01-CENTRAL DIVISION                           ...   \n",
              "\n",
              "                                      NIBRS_Hi_Class  Incident_From_Time  \\\n",
              "0  Drug Equipment Violations                     ...                 NaN   \n",
              "1  Aggravated Assault                            ...                 NaN   \n",
              "2  Damage/Vandalism Of Property                  ...                 NaN   \n",
              "3  Burglary/B&E                                  ...                 NaN   \n",
              "4  Affray                                        ...                 NaN   \n",
              "\n",
              "  Incident_to_Time Unnamed: 28 Unnamed: 29  \n",
              "0              NaN         NaN         NaN  \n",
              "1              NaN         NaN         NaN  \n",
              "2              NaN         NaN         NaN  \n",
              "3              NaN         NaN         NaN  \n",
              "4              NaN         NaN         NaN  \n",
              "\n",
              "[5 rows x 30 columns]"
            ]
          },
          "execution_count": 8,
          "metadata": {},
          "output_type": "execute_result"
        }
      ],
      "source": [
        "vehicle_df.head()"
      ]
    },
    {
      "cell_type": "code",
      "execution_count": 9,
      "metadata": {
        "colab": {
          "base_uri": "https://localhost:8080/",
          "height": 175
        },
        "id": "TSR4RWsLouLb",
        "outputId": "061423ba-6310-4320-c47c-eedbd3ad08ca"
      },
      "outputs": [
        {
          "data": {
            "text/html": [
              "<div>\n",
              "<style scoped>\n",
              "    .dataframe tbody tr th:only-of-type {\n",
              "        vertical-align: middle;\n",
              "    }\n",
              "\n",
              "    .dataframe tbody tr th {\n",
              "        vertical-align: top;\n",
              "    }\n",
              "\n",
              "    .dataframe thead th {\n",
              "        text-align: right;\n",
              "    }\n",
              "</style>\n",
              "<table border=\"1\" class=\"dataframe\">\n",
              "  <thead>\n",
              "    <tr style=\"text-align: right;\">\n",
              "      <th></th>\n",
              "      <th>X_Coordinate</th>\n",
              "      <th>Y_Coordinate</th>\n",
              "    </tr>\n",
              "  </thead>\n",
              "  <tbody>\n",
              "    <tr>\n",
              "      <th>0</th>\n",
              "      <td>1433698</td>\n",
              "      <td>551674</td>\n",
              "    </tr>\n",
              "    <tr>\n",
              "      <th>1</th>\n",
              "      <td>1446676</td>\n",
              "      <td>556631</td>\n",
              "    </tr>\n",
              "    <tr>\n",
              "      <th>2</th>\n",
              "      <td>1456850</td>\n",
              "      <td>549120</td>\n",
              "    </tr>\n",
              "    <tr>\n",
              "      <th>3</th>\n",
              "      <td>1453488</td>\n",
              "      <td>502939</td>\n",
              "    </tr>\n",
              "    <tr>\n",
              "      <th>4</th>\n",
              "      <td>1449765</td>\n",
              "      <td>542246</td>\n",
              "    </tr>\n",
              "    <tr>\n",
              "      <th>...</th>\n",
              "      <td>...</td>\n",
              "      <td>...</td>\n",
              "    </tr>\n",
              "    <tr>\n",
              "      <th>566784</th>\n",
              "      <td>1448960</td>\n",
              "      <td>542949</td>\n",
              "    </tr>\n",
              "    <tr>\n",
              "      <th>566785</th>\n",
              "      <td>1474872</td>\n",
              "      <td>564567</td>\n",
              "    </tr>\n",
              "    <tr>\n",
              "      <th>566786</th>\n",
              "      <td>1482291</td>\n",
              "      <td>554972</td>\n",
              "    </tr>\n",
              "    <tr>\n",
              "      <th>566787</th>\n",
              "      <td>1441206</td>\n",
              "      <td>551129</td>\n",
              "    </tr>\n",
              "    <tr>\n",
              "      <th>566788</th>\n",
              "      <td>1431587</td>\n",
              "      <td>554854</td>\n",
              "    </tr>\n",
              "  </tbody>\n",
              "</table>\n",
              "<p>566789 rows × 2 columns</p>\n",
              "</div>"
            ],
            "text/plain": [
              "       X_Coordinate Y_Coordinate\n",
              "0           1433698       551674\n",
              "1           1446676       556631\n",
              "2           1456850       549120\n",
              "3           1453488       502939\n",
              "4           1449765       542246\n",
              "...             ...          ...\n",
              "566784      1448960       542949\n",
              "566785      1474872       564567\n",
              "566786      1482291       554972\n",
              "566787      1441206       551129\n",
              "566788      1431587       554854\n",
              "\n",
              "[566789 rows x 2 columns]"
            ]
          },
          "execution_count": 9,
          "metadata": {},
          "output_type": "execute_result"
        }
      ],
      "source": [
        "vehicle_df[['X_Coordinate','Y_Coordinate']]"
      ]
    },
    {
      "cell_type": "code",
      "execution_count": 10,
      "metadata": {
        "colab": {
          "base_uri": "https://localhost:8080/"
        },
        "id": "cheXiW5MwXY1",
        "outputId": "871e2c38-2191-42c4-ab78-47d298ec363c"
      },
      "outputs": [
        {
          "name": "stdout",
          "output_type": "stream",
          "text": [
            "<class 'pandas.core.frame.DataFrame'>\n",
            "RangeIndex: 566789 entries, 0 to 566788\n",
            "Data columns (total 30 columns):\n",
            " #   Column               Non-Null Count   Dtype  \n",
            "---  ------               --------------   -----  \n",
            " 0   Complaint_No         566789 non-null  int64  \n",
            " 1   Block_No             566789 non-null  object \n",
            " 2   Direction            566789 non-null  object \n",
            " 3   Street_Name          566789 non-null  object \n",
            " 4   Street_Type          566788 non-null  object \n",
            " 5   Suffix               566789 non-null  object \n",
            " 6   Apt_No               566789 non-null  object \n",
            " 7   City                 566789 non-null  object \n",
            " 8   State                566789 non-null  object \n",
            " 9   Zipcode              566789 non-null  object \n",
            " 10  X_Coordinate         566789 non-null  object \n",
            " 11  Y_Coordinate         566789 non-null  object \n",
            " 12  Division             566789 non-null  object \n",
            " 13  Reported_Date        566789 non-null  object \n",
            " 14  Location_Desc        566788 non-null  float64\n",
            " 15  Location_Type        566789 non-null  object \n",
            " 16  Incident_From_Date   566789 non-null  object \n",
            " 17  Incident_to_date     432485 non-null  object \n",
            " 18  Place1               566789 non-null  object \n",
            " 19  Place2               566789 non-null  object \n",
            " 20  Clearance_Status     566789 non-null  object \n",
            " 21  Clearance_Date       566789 non-null  object \n",
            " 22  Case_Status          566789 non-null  object \n",
            " 23  Reporting_Agency     566789 non-null  object \n",
            " 24  Follow_up_Section    566789 non-null  object \n",
            " 25  NIBRS_Hi_Class       566789 non-null  object \n",
            " 26   Incident_From_Time  501254 non-null  object \n",
            " 27  Incident_to_Time     366949 non-null  float64\n",
            " 28  Unnamed: 28          1 non-null       object \n",
            " 29  Unnamed: 29          1 non-null       object \n",
            "dtypes: float64(2), int64(1), object(27)\n",
            "memory usage: 129.7+ MB\n"
          ]
        }
      ],
      "source": [
        "vehicle_df.info()"
      ]
    },
    {
      "cell_type": "code",
      "execution_count": 11,
      "metadata": {
        "colab": {
          "base_uri": "https://localhost:8080/"
        },
        "id": "ORshGhmK1bhS",
        "outputId": "32db07ed-f3b0-402c-b79b-5a92db812d3a"
      },
      "outputs": [
        {
          "name": "stdout",
          "output_type": "stream",
          "text": [
            "Index(['Complaint_No', 'Block_No', 'Direction', 'Street_Name', 'Street_Type',\n",
            "       'Suffix', 'Apt_No', 'City', 'State', 'Zipcode', 'X_Coordinate',\n",
            "       'Y_Coordinate', 'Division', 'Reported_Date', 'Location_Desc',\n",
            "       'Location_Type', 'Incident_From_Date', 'Incident_to_date', 'Place1',\n",
            "       'Place2', 'Clearance_Status', 'Clearance_Date', 'Case_Status',\n",
            "       'Reporting_Agency', 'Follow_up_Section', 'NIBRS_Hi_Class',\n",
            "       ' Incident_From_Time', 'Incident_to_Time', 'Unnamed: 28',\n",
            "       'Unnamed: 29'],\n",
            "      dtype='object')\n"
          ]
        }
      ],
      "source": [
        "print(vehicle_df.columns)"
      ]
    },
    {
      "cell_type": "markdown",
      "metadata": {
        "id": "3g9oOatX2MLA"
      },
      "source": [
        "We need to combine 'Direction', 'Street Name' and 'Street Type' into 1 column called 'Street Address'"
      ]
    },
    {
      "cell_type": "code",
      "execution_count": 12,
      "metadata": {
        "id": "wb_g57jV1m2y"
      },
      "outputs": [],
      "source": [
        "# Combining Direction, Street_Name, Street_Type into Street_Address\n",
        "vehicle_df.loc[:, 'Street_Address'] = vehicle_df['Direction'] + ' ' + vehicle_df['Street_Name'] + ' ' + vehicle_df['Street_Type']\n"
      ]
    },
    {
      "cell_type": "markdown",
      "metadata": {
        "id": "Q60-MF1emREO"
      },
      "source": [
        "We can get rid of all the extra columns that are not very relevant to our project.\n"
      ]
    },
    {
      "cell_type": "code",
      "execution_count": 13,
      "metadata": {
        "id": "rhJqjw-poAnD"
      },
      "outputs": [],
      "source": [
        "# Adjusting the columns we want in our dataset\n",
        "columns_to_keep = ['Street_Address','Zipcode','X_Coordinate','Y_Coordinate','NIBRS_Hi_Class']\n",
        "\n",
        "vehicle_df = vehicle_df[columns_to_keep]"
      ]
    },
    {
      "cell_type": "code",
      "execution_count": 14,
      "metadata": {
        "colab": {
          "base_uri": "https://localhost:8080/",
          "height": 206
        },
        "id": "Td2FzRl641X-",
        "outputId": "944de0d5-307b-4521-8b59-c69e30edefe3"
      },
      "outputs": [
        {
          "data": {
            "text/html": [
              "<div>\n",
              "<style scoped>\n",
              "    .dataframe tbody tr th:only-of-type {\n",
              "        vertical-align: middle;\n",
              "    }\n",
              "\n",
              "    .dataframe tbody tr th {\n",
              "        vertical-align: top;\n",
              "    }\n",
              "\n",
              "    .dataframe thead th {\n",
              "        text-align: right;\n",
              "    }\n",
              "</style>\n",
              "<table border=\"1\" class=\"dataframe\">\n",
              "  <thead>\n",
              "    <tr style=\"text-align: right;\">\n",
              "      <th></th>\n",
              "      <th>Street_Address</th>\n",
              "      <th>Zipcode</th>\n",
              "      <th>X_Coordinate</th>\n",
              "      <th>Y_Coordinate</th>\n",
              "      <th>NIBRS_Hi_Class</th>\n",
              "    </tr>\n",
              "  </thead>\n",
              "  <tbody>\n",
              "    <tr>\n",
              "      <th>0</th>\n",
              "      <td>EDDLEMAN                                 RD</td>\n",
              "      <td>28208</td>\n",
              "      <td>1433698</td>\n",
              "      <td>551674</td>\n",
              "      <td>Drug Equipment Violations                     ...</td>\n",
              "    </tr>\n",
              "    <tr>\n",
              "      <th>1</th>\n",
              "      <td>BEATTIES FORD                            RD</td>\n",
              "      <td>28216</td>\n",
              "      <td>1446676</td>\n",
              "      <td>556631</td>\n",
              "      <td>Aggravated Assault                            ...</td>\n",
              "    </tr>\n",
              "    <tr>\n",
              "      <th>2</th>\n",
              "      <td>N  TRYON                                    ST</td>\n",
              "      <td></td>\n",
              "      <td>1456850</td>\n",
              "      <td>549120</td>\n",
              "      <td>Damage/Vandalism Of Property                  ...</td>\n",
              "    </tr>\n",
              "    <tr>\n",
              "      <th>3</th>\n",
              "      <td>QUAIL GLENN                              CT</td>\n",
              "      <td>28226</td>\n",
              "      <td>1453488</td>\n",
              "      <td>502939</td>\n",
              "      <td>Burglary/B&amp;E                                  ...</td>\n",
              "    </tr>\n",
              "    <tr>\n",
              "      <th>4</th>\n",
              "      <td>S  COLLEGE                                  ST</td>\n",
              "      <td>28202</td>\n",
              "      <td>1449765</td>\n",
              "      <td>542246</td>\n",
              "      <td>Affray                                        ...</td>\n",
              "    </tr>\n",
              "  </tbody>\n",
              "</table>\n",
              "</div>"
            ],
            "text/plain": [
              "                                   Street_Address       Zipcode X_Coordinate  \\\n",
              "0     EDDLEMAN                                 RD         28208      1433698   \n",
              "1     BEATTIES FORD                            RD         28216      1446676   \n",
              "2  N  TRYON                                    ST                    1456850   \n",
              "3     QUAIL GLENN                              CT         28226      1453488   \n",
              "4  S  COLLEGE                                  ST         28202      1449765   \n",
              "\n",
              "  Y_Coordinate                                     NIBRS_Hi_Class  \n",
              "0       551674  Drug Equipment Violations                     ...  \n",
              "1       556631  Aggravated Assault                            ...  \n",
              "2       549120  Damage/Vandalism Of Property                  ...  \n",
              "3       502939  Burglary/B&E                                  ...  \n",
              "4       542246  Affray                                        ...  "
            ]
          },
          "execution_count": 14,
          "metadata": {},
          "output_type": "execute_result"
        }
      ],
      "source": [
        "vehicle_df.head()"
      ]
    },
    {
      "cell_type": "code",
      "execution_count": 15,
      "metadata": {
        "colab": {
          "base_uri": "https://localhost:8080/"
        },
        "id": "9wDw2HIBjtQo",
        "outputId": "acf8975c-1fe9-42c9-aa39-7580aca0892f"
      },
      "outputs": [
        {
          "name": "stdout",
          "output_type": "stream",
          "text": [
            "['Drug Equipment Violations                                                                           '\n",
            " 'Aggravated Assault                                                                                  '\n",
            " 'Damage/Vandalism Of Property                                                                        '\n",
            " 'Burglary/B&E                                                                                        '\n",
            " 'Affray                                                                                              '\n",
            " 'All Other Offenses                                                                                  '\n",
            " 'Simple Assault                                                                                      '\n",
            " 'Missing Person                                                                                      '\n",
            " 'Drug/Narcotic Violations                                                                            '\n",
            " 'Indecent Exposure                                                                                   '\n",
            " 'Driving Under The Influence                                                                         '\n",
            " 'Trespass Of Real Property                                                                           '\n",
            " 'Disorderly Conduct                                                                                  '\n",
            " 'Weapon Law Violations                                                                               '\n",
            " 'Hit And Run (Property Only)                                                                         '\n",
            " 'Theft From Motor Vehicle                                                                            '\n",
            " 'Other Unlisted Non-Criminal                                                                         '\n",
            " 'Suicide                                                                                             '\n",
            " 'Forcible Rape                                                                                       '\n",
            " 'Theft From Building                                                                                 '\n",
            " 'False Pretenses/Swindle                                                                             '\n",
            " 'Intimidation                                                                                        '\n",
            " 'Motor Vehicle Theft                                                                                 '\n",
            " 'Shoplifting                                                                                         '\n",
            " 'Theft of Motor Vehicle Parts from Vehicle                                                           '\n",
            " 'All Other Thefts                                                                                    '\n",
            " 'Counterfeiting/Forgery                                                                              '\n",
            " 'Robbery                                                                                             '\n",
            " 'Vehicle Recovery                                                                                    '\n",
            " 'Kidnapping                                                                                          '\n",
            " 'Purse-Snatching                                                                                     '\n",
            " 'Sudden/Natural Death Investigation                                                                  '\n",
            " 'Credit Card/Teller Fraud                                                                            '\n",
            " 'Embezzlement                                                                                        '\n",
            " 'Overdose                                                                                            '\n",
            " 'Family Offenses; Nonviolent                                                                         '\n",
            " 'Stolen Property Offenses                                                                            '\n",
            " 'Fire (Accidental/Non-Arson)                                                                         '\n",
            " 'Impersonation                                                                                       '\n",
            " 'Theft From Coin-Operated Machine Or Device                                                          '\n",
            " 'Statutory Rape                                                                                      '\n",
            " 'Forcible Fondling                                                                                   '\n",
            " 'Wire Fraud                                                                                          '\n",
            " 'Pocket-Picking                                                                                      '\n",
            " 'Dog Bite/Animal Control Incident                                                                    '\n",
            " 'Pornography/Obscene Material                                                                        '\n",
            " 'Prostitution                                                                                        '\n",
            " 'Public Accident                                                                                     '\n",
            " 'Liquor Law Violations                                                                               '\n",
            " 'Forcible Sodomy                                                                                     '\n",
            " 'Murder                                                                                              '\n",
            " 'Incest                                                                                              '\n",
            " 'Justifiable Homicide                                                                                '\n",
            " 'Worthless Check: Felony (over $2000)                                                                '\n",
            " 'Arson                                                                                               '\n",
            " 'Curfew/Loitering/Vagrancy Violations                                                                '\n",
            " 'Extortion/Blackmail                                                                                 '\n",
            " 'Gambling Equipment Violations                                                                       '\n",
            " 'Sexual Assault With Object                                                                          '\n",
            " 'Peeping Tom                                                                                         '\n",
            " 'Betting/Wagering                                                                                    '\n",
            " 'Assisting Prostitution                                                                              '\n",
            " 'Assisting Gambling                                                                                  '\n",
            " 'Welfare Fraud                                                                                       '\n",
            " 'Negligent Manslaughter                                                                              '\n",
            " 'Charlotte-Mecklenburg Police Department      '\n",
            " 'Bribery                                                                                             '\n",
            " 'Gas Leak                                                                                            ']\n"
          ]
        }
      ],
      "source": [
        "# Displaying unique values in the 'NIBRS_Hi_Class' column\n",
        "print(vehicle_df['NIBRS_Hi_Class'].unique())\n"
      ]
    },
    {
      "cell_type": "code",
      "execution_count": 16,
      "metadata": {
        "colab": {
          "base_uri": "https://localhost:8080/",
          "height": 520
        },
        "id": "yvMjJjTSllHg",
        "outputId": "c46f2453-e6e2-4a0d-e579-41e17ab0ac69"
      },
      "outputs": [
        {
          "data": {
            "text/html": [
              "<div>\n",
              "<style scoped>\n",
              "    .dataframe tbody tr th:only-of-type {\n",
              "        vertical-align: middle;\n",
              "    }\n",
              "\n",
              "    .dataframe tbody tr th {\n",
              "        vertical-align: top;\n",
              "    }\n",
              "\n",
              "    .dataframe thead th {\n",
              "        text-align: right;\n",
              "    }\n",
              "</style>\n",
              "<table border=\"1\" class=\"dataframe\">\n",
              "  <thead>\n",
              "    <tr style=\"text-align: right;\">\n",
              "      <th></th>\n",
              "      <th>Street_Address</th>\n",
              "      <th>Zipcode</th>\n",
              "      <th>X_Coordinate</th>\n",
              "      <th>Y_Coordinate</th>\n",
              "      <th>NIBRS_Hi_Class</th>\n",
              "    </tr>\n",
              "  </thead>\n",
              "  <tbody>\n",
              "    <tr>\n",
              "      <th>84</th>\n",
              "      <td>INTERURBAN                               AV</td>\n",
              "      <td>28208</td>\n",
              "      <td>1431508</td>\n",
              "      <td>554267</td>\n",
              "      <td>Motor Vehicle Theft</td>\n",
              "    </tr>\n",
              "    <tr>\n",
              "      <th>89</th>\n",
              "      <td>SPRINGMONT                               LN</td>\n",
              "      <td>28208</td>\n",
              "      <td>1427405</td>\n",
              "      <td>557580</td>\n",
              "      <td>Motor Vehicle Theft</td>\n",
              "    </tr>\n",
              "    <tr>\n",
              "      <th>100</th>\n",
              "      <td>SCOTT FUTRELL                            DR</td>\n",
              "      <td>28208</td>\n",
              "      <td>1425917</td>\n",
              "      <td>546914</td>\n",
              "      <td>Motor Vehicle Theft</td>\n",
              "    </tr>\n",
              "    <tr>\n",
              "      <th>103</th>\n",
              "      <td>LISBON                                   LN</td>\n",
              "      <td>28269</td>\n",
              "      <td>1463794</td>\n",
              "      <td>564750</td>\n",
              "      <td>Motor Vehicle Theft</td>\n",
              "    </tr>\n",
              "    <tr>\n",
              "      <th>110</th>\n",
              "      <td>PERIMETER STATION                        DR</td>\n",
              "      <td>28269</td>\n",
              "      <td>1447340</td>\n",
              "      <td>585770</td>\n",
              "      <td>Motor Vehicle Theft</td>\n",
              "    </tr>\n",
              "    <tr>\n",
              "      <th>113</th>\n",
              "      <td>JORDANS POND                             LN</td>\n",
              "      <td>28214</td>\n",
              "      <td>1423483</td>\n",
              "      <td>566774</td>\n",
              "      <td>Motor Vehicle Theft</td>\n",
              "    </tr>\n",
              "    <tr>\n",
              "      <th>148</th>\n",
              "      <td>E  INDEPENDENCE                             BV</td>\n",
              "      <td>28212</td>\n",
              "      <td>1477862</td>\n",
              "      <td>522932</td>\n",
              "      <td>Motor Vehicle Theft</td>\n",
              "    </tr>\n",
              "    <tr>\n",
              "      <th>149</th>\n",
              "      <td>N  CALDWELL                                 ST</td>\n",
              "      <td>28202</td>\n",
              "      <td>1451678</td>\n",
              "      <td>542269</td>\n",
              "      <td>Motor Vehicle Theft</td>\n",
              "    </tr>\n",
              "    <tr>\n",
              "      <th>160</th>\n",
              "      <td>E  7 TH                                     ST</td>\n",
              "      <td></td>\n",
              "      <td>1451249</td>\n",
              "      <td>542901</td>\n",
              "      <td>Motor Vehicle Theft</td>\n",
              "    </tr>\n",
              "    <tr>\n",
              "      <th>165</th>\n",
              "      <td>MAGNOLIA HILL                            DR</td>\n",
              "      <td>28205</td>\n",
              "      <td>1470918</td>\n",
              "      <td>543000</td>\n",
              "      <td>Motor Vehicle Theft</td>\n",
              "    </tr>\n",
              "    <tr>\n",
              "      <th>181</th>\n",
              "      <td>WATSON                                   DR</td>\n",
              "      <td></td>\n",
              "      <td>1436716</td>\n",
              "      <td>539135</td>\n",
              "      <td>Motor Vehicle Theft</td>\n",
              "    </tr>\n",
              "    <tr>\n",
              "      <th>198</th>\n",
              "      <td>S  COLLEGE                                  ST</td>\n",
              "      <td>28202</td>\n",
              "      <td>1449355</td>\n",
              "      <td>542073</td>\n",
              "      <td>Motor Vehicle Theft</td>\n",
              "    </tr>\n",
              "    <tr>\n",
              "      <th>291</th>\n",
              "      <td>SCALEYBARK                               RD</td>\n",
              "      <td>28209</td>\n",
              "      <td>1443247</td>\n",
              "      <td>526701</td>\n",
              "      <td>Motor Vehicle Theft</td>\n",
              "    </tr>\n",
              "    <tr>\n",
              "      <th>332</th>\n",
              "      <td>THRIFTWOOD                               DR</td>\n",
              "      <td>28208</td>\n",
              "      <td>1431910</td>\n",
              "      <td>553890</td>\n",
              "      <td>Motor Vehicle Theft</td>\n",
              "    </tr>\n",
              "    <tr>\n",
              "      <th>359</th>\n",
              "      <td>CRESTWOOD                                DR</td>\n",
              "      <td></td>\n",
              "      <td>1467353</td>\n",
              "      <td>482366</td>\n",
              "      <td>Motor Vehicle Theft</td>\n",
              "    </tr>\n",
              "  </tbody>\n",
              "</table>\n",
              "</div>"
            ],
            "text/plain": [
              "                                     Street_Address       Zipcode  \\\n",
              "84      INTERURBAN                               AV         28208   \n",
              "89      SPRINGMONT                               LN         28208   \n",
              "100     SCOTT FUTRELL                            DR         28208   \n",
              "103     LISBON                                   LN         28269   \n",
              "110     PERIMETER STATION                        DR         28269   \n",
              "113     JORDANS POND                             LN         28214   \n",
              "148  E  INDEPENDENCE                             BV         28212   \n",
              "149  N  CALDWELL                                 ST         28202   \n",
              "160  E  7 TH                                     ST                 \n",
              "165     MAGNOLIA HILL                            DR         28205   \n",
              "181     WATSON                                   DR                 \n",
              "198  S  COLLEGE                                  ST         28202   \n",
              "291     SCALEYBARK                               RD         28209   \n",
              "332     THRIFTWOOD                               DR         28208   \n",
              "359     CRESTWOOD                                DR                 \n",
              "\n",
              "    X_Coordinate Y_Coordinate       NIBRS_Hi_Class  \n",
              "84       1431508       554267  Motor Vehicle Theft  \n",
              "89       1427405       557580  Motor Vehicle Theft  \n",
              "100      1425917       546914  Motor Vehicle Theft  \n",
              "103      1463794       564750  Motor Vehicle Theft  \n",
              "110      1447340       585770  Motor Vehicle Theft  \n",
              "113      1423483       566774  Motor Vehicle Theft  \n",
              "148      1477862       522932  Motor Vehicle Theft  \n",
              "149      1451678       542269  Motor Vehicle Theft  \n",
              "160      1451249       542901  Motor Vehicle Theft  \n",
              "165      1470918       543000  Motor Vehicle Theft  \n",
              "181      1436716       539135  Motor Vehicle Theft  \n",
              "198      1449355       542073  Motor Vehicle Theft  \n",
              "291      1443247       526701  Motor Vehicle Theft  \n",
              "332      1431910       553890  Motor Vehicle Theft  \n",
              "359      1467353       482366  Motor Vehicle Theft  "
            ]
          },
          "execution_count": 16,
          "metadata": {},
          "output_type": "execute_result"
        }
      ],
      "source": [
        "# filtering by 'Motor Vehicle Theft'\n",
        "vehicle_df['NIBRS_Hi_Class'] = vehicle_df['NIBRS_Hi_Class'].str.strip()\n",
        "vehicle_df = vehicle_df[vehicle_df['NIBRS_Hi_Class'].str.contains('Motor Vehicle Theft', case=False)]\n",
        "\n",
        "vehicle_df.head(15)"
      ]
    },
    {
      "cell_type": "markdown",
      "metadata": {
        "id": "kIKmO7bIQdQk"
      },
      "source": [
        "We have some empty values under 'Zipcode' , 'X_Coordinate' , and 'Y_Coordinate' that we have to deal with:\n",
        " * Most of them are empty strings and whitespaces\n",
        "\n",
        "* Idealy we could use the X & Y coordinates to fill in the missing zip codes. Or fill in the missing information by using the street address. However this would take some time and we are on a bit of a time crunch, so we chose to remove rows entirely with missing data.\n",
        "\n",
        "* Although this gives us less data to work with, we'd rather have accurate data that will work well with modeling than tons of information that will cause problems.\n",
        "\n",
        "\n"
      ]
    },
    {
      "cell_type": "code",
      "execution_count": 17,
      "metadata": {
        "colab": {
          "base_uri": "https://localhost:8080/"
        },
        "id": "E4IXnCn7PUuQ",
        "outputId": "3d303193-47fa-4d9e-f8c3-efd44096cbe8"
      },
      "outputs": [
        {
          "name": "stdout",
          "output_type": "stream",
          "text": [
            "                                        Street_Address Zipcode X_Coordinate  \\\n",
            "84         INTERURBAN                               AV   28208      1431508   \n",
            "89         SPRINGMONT                               LN   28208      1427405   \n",
            "100        SCOTT FUTRELL                            DR   28208      1425917   \n",
            "103        LISBON                                   LN   28269      1463794   \n",
            "110        PERIMETER STATION                        DR   28269      1447340   \n",
            "...                                                ...     ...          ...   \n",
            "566624     BEATTIES FORD                            RD   28216      1446074   \n",
            "566626     NEVILLE ABBEY                            DR   28262      1483602   \n",
            "566631     BREEZEWOOD                               DR   28262      1479544   \n",
            "566668     BENNETTSVILLE                            LN   28262      1463389   \n",
            "566755     HERRIN                                   AV   28205      1464791   \n",
            "\n",
            "       Y_Coordinate       NIBRS_Hi_Class  \n",
            "84           554267  Motor Vehicle Theft  \n",
            "89           557580  Motor Vehicle Theft  \n",
            "100          546914  Motor Vehicle Theft  \n",
            "103          564750  Motor Vehicle Theft  \n",
            "110          585770  Motor Vehicle Theft  \n",
            "...             ...                  ...  \n",
            "566624       561136  Motor Vehicle Theft  \n",
            "566626       593837  Motor Vehicle Theft  \n",
            "566631       586486  Motor Vehicle Theft  \n",
            "566668       569930  Motor Vehicle Theft  \n",
            "566755       545684  Motor Vehicle Theft  \n",
            "\n",
            "[10957 rows x 5 columns]\n"
          ]
        }
      ],
      "source": [
        "# Remove rows with NaN values\n",
        "vehicle_df = vehicle_df.dropna()\n",
        "\n",
        "# Remove rows with empty strings\n",
        "vehicle_df = vehicle_df[~vehicle_df.apply(lambda row: row.str.strip().eq('').any(), axis=1)]\n",
        "\n",
        "# Checking the cleaned DataFrame\n",
        "print(vehicle_df)\n",
        "vehicle_df.head(15)\n",
        "\n",
        "# Creating a combined csv\n",
        "vehicle_df.to_csv('Vehicle_Theft.csv', index=False)"
      ]
    },
    {
      "cell_type": "markdown",
      "metadata": {
        "id": "8NhOPwxYU_xU"
      },
      "source": [
        "## Visualizations"
      ]
    },
    {
      "cell_type": "code",
      "execution_count": 18,
      "metadata": {
        "id": "TYpMuSzbXA5l"
      },
      "outputs": [
        {
          "ename": "ModuleNotFoundError",
          "evalue": "No module named 'folium'",
          "output_type": "error",
          "traceback": [
            "\u001b[1;31m---------------------------------------------------------------------------\u001b[0m",
            "\u001b[1;31mModuleNotFoundError\u001b[0m                       Traceback (most recent call last)",
            "\u001b[1;32mc:\\Users\\optim\\Documents\\GitHub\\Studio3\\Project\\CMPD_Car_Theft.ipynb Cell 24\u001b[0m line \u001b[0;36m1\n\u001b[1;32m----> <a href='vscode-notebook-cell:/c%3A/Users/optim/Documents/GitHub/Studio3/Project/CMPD_Car_Theft.ipynb#X32sZmlsZQ%3D%3D?line=0'>1</a>\u001b[0m \u001b[39mimport\u001b[39;00m \u001b[39mfolium\u001b[39;00m\n\u001b[0;32m      <a href='vscode-notebook-cell:/c%3A/Users/optim/Documents/GitHub/Studio3/Project/CMPD_Car_Theft.ipynb#X32sZmlsZQ%3D%3D?line=1'>2</a>\u001b[0m \u001b[39mimport\u001b[39;00m \u001b[39mgeopandas\u001b[39;00m \u001b[39mas\u001b[39;00m \u001b[39mgpd\u001b[39;00m\n",
            "\u001b[1;31mModuleNotFoundError\u001b[0m: No module named 'folium'"
          ]
        }
      ],
      "source": [
        "import folium\n",
        "import geopandas as gpd"
      ]
    },
    {
      "cell_type": "code",
      "execution_count": null,
      "metadata": {
        "id": "AwJdWEK8dXB6"
      },
      "outputs": [],
      "source": [
        "m = folium.Map(location=[vehicle_df['Y_Coordinate'].mean(), vehicle_df['X_Coordinate'].mean()], zoom_start=10)\n"
      ]
    },
    {
      "cell_type": "code",
      "execution_count": null,
      "metadata": {
        "id": "-5q3hgd9dxKP"
      },
      "outputs": [],
      "source": [
        "for index, row in vehicle_df.iterrows():\n",
        "    folium.Marker([row['Y_Coordinate'], row['X_Coordinate']], tooltip=row['NIBRS_Hi_Class']).add_to(m)\n",
        "\n",
        "# Display the map\n",
        "m.save('vehicle_theft_map.html')"
      ]
    },
    {
      "cell_type": "markdown",
      "metadata": {
        "id": "mUIaKVwqfazd"
      },
      "source": [
        "## Machine Learning Model (In Progress)"
      ]
    },
    {
      "cell_type": "code",
      "execution_count": null,
      "metadata": {
        "id": "964EUirgfg-k"
      },
      "outputs": [],
      "source": [
        "from sklearn.model_selection import train_test_split\n",
        "from sklearn.ensemble import RandomForestClassifier\n",
        "from sklearn.metrics import accuracy_score, classification_report\n",
        "\n",
        "X = vehicle_df[['Y_Coordinate', 'X_Coordinate']]  # Features\n",
        "y = vehicle_df['Zipcode']  # Target variable"
      ]
    },
    {
      "cell_type": "code",
      "execution_count": null,
      "metadata": {
        "id": "2iT0UMVviTDy"
      },
      "outputs": [],
      "source": [
        "# Split data into training and testing sets\n",
        "X_train, X_test, y_train, y_test = train_test_split(X, y, test_size=0.2, random_state=42)"
      ]
    },
    {
      "cell_type": "code",
      "execution_count": null,
      "metadata": {
        "colab": {
          "base_uri": "https://localhost:8080/",
          "height": 75
        },
        "id": "2lQMWP1fiZuG",
        "outputId": "cf06347d-8c0c-4d7b-ab2a-52e7bc774a88"
      },
      "outputs": [
        {
          "data": {
            "text/html": [
              "<style>#sk-container-id-1 {color: black;background-color: white;}#sk-container-id-1 pre{padding: 0;}#sk-container-id-1 div.sk-toggleable {background-color: white;}#sk-container-id-1 label.sk-toggleable__label {cursor: pointer;display: block;width: 100%;margin-bottom: 0;padding: 0.3em;box-sizing: border-box;text-align: center;}#sk-container-id-1 label.sk-toggleable__label-arrow:before {content: \"▸\";float: left;margin-right: 0.25em;color: #696969;}#sk-container-id-1 label.sk-toggleable__label-arrow:hover:before {color: black;}#sk-container-id-1 div.sk-estimator:hover label.sk-toggleable__label-arrow:before {color: black;}#sk-container-id-1 div.sk-toggleable__content {max-height: 0;max-width: 0;overflow: hidden;text-align: left;background-color: #f0f8ff;}#sk-container-id-1 div.sk-toggleable__content pre {margin: 0.2em;color: black;border-radius: 0.25em;background-color: #f0f8ff;}#sk-container-id-1 input.sk-toggleable__control:checked~div.sk-toggleable__content {max-height: 200px;max-width: 100%;overflow: auto;}#sk-container-id-1 input.sk-toggleable__control:checked~label.sk-toggleable__label-arrow:before {content: \"▾\";}#sk-container-id-1 div.sk-estimator input.sk-toggleable__control:checked~label.sk-toggleable__label {background-color: #d4ebff;}#sk-container-id-1 div.sk-label input.sk-toggleable__control:checked~label.sk-toggleable__label {background-color: #d4ebff;}#sk-container-id-1 input.sk-hidden--visually {border: 0;clip: rect(1px 1px 1px 1px);clip: rect(1px, 1px, 1px, 1px);height: 1px;margin: -1px;overflow: hidden;padding: 0;position: absolute;width: 1px;}#sk-container-id-1 div.sk-estimator {font-family: monospace;background-color: #f0f8ff;border: 1px dotted black;border-radius: 0.25em;box-sizing: border-box;margin-bottom: 0.5em;}#sk-container-id-1 div.sk-estimator:hover {background-color: #d4ebff;}#sk-container-id-1 div.sk-parallel-item::after {content: \"\";width: 100%;border-bottom: 1px solid gray;flex-grow: 1;}#sk-container-id-1 div.sk-label:hover label.sk-toggleable__label {background-color: #d4ebff;}#sk-container-id-1 div.sk-serial::before {content: \"\";position: absolute;border-left: 1px solid gray;box-sizing: border-box;top: 0;bottom: 0;left: 50%;z-index: 0;}#sk-container-id-1 div.sk-serial {display: flex;flex-direction: column;align-items: center;background-color: white;padding-right: 0.2em;padding-left: 0.2em;position: relative;}#sk-container-id-1 div.sk-item {position: relative;z-index: 1;}#sk-container-id-1 div.sk-parallel {display: flex;align-items: stretch;justify-content: center;background-color: white;position: relative;}#sk-container-id-1 div.sk-item::before, #sk-container-id-1 div.sk-parallel-item::before {content: \"\";position: absolute;border-left: 1px solid gray;box-sizing: border-box;top: 0;bottom: 0;left: 50%;z-index: -1;}#sk-container-id-1 div.sk-parallel-item {display: flex;flex-direction: column;z-index: 1;position: relative;background-color: white;}#sk-container-id-1 div.sk-parallel-item:first-child::after {align-self: flex-end;width: 50%;}#sk-container-id-1 div.sk-parallel-item:last-child::after {align-self: flex-start;width: 50%;}#sk-container-id-1 div.sk-parallel-item:only-child::after {width: 0;}#sk-container-id-1 div.sk-dashed-wrapped {border: 1px dashed gray;margin: 0 0.4em 0.5em 0.4em;box-sizing: border-box;padding-bottom: 0.4em;background-color: white;}#sk-container-id-1 div.sk-label label {font-family: monospace;font-weight: bold;display: inline-block;line-height: 1.2em;}#sk-container-id-1 div.sk-label-container {text-align: center;}#sk-container-id-1 div.sk-container {/* jupyter's `normalize.less` sets `[hidden] { display: none; }` but bootstrap.min.css set `[hidden] { display: none !important; }` so we also need the `!important` here to be able to override the default hidden behavior on the sphinx rendered scikit-learn.org. See: https://github.com/scikit-learn/scikit-learn/issues/21755 */display: inline-block !important;position: relative;}#sk-container-id-1 div.sk-text-repr-fallback {display: none;}</style><div id=\"sk-container-id-1\" class=\"sk-top-container\"><div class=\"sk-text-repr-fallback\"><pre>RandomForestClassifier(random_state=42)</pre><b>In a Jupyter environment, please rerun this cell to show the HTML representation or trust the notebook. <br />On GitHub, the HTML representation is unable to render, please try loading this page with nbviewer.org.</b></div><div class=\"sk-container\" hidden><div class=\"sk-item\"><div class=\"sk-estimator sk-toggleable\"><input class=\"sk-toggleable__control sk-hidden--visually\" id=\"sk-estimator-id-1\" type=\"checkbox\" checked><label for=\"sk-estimator-id-1\" class=\"sk-toggleable__label sk-toggleable__label-arrow\">RandomForestClassifier</label><div class=\"sk-toggleable__content\"><pre>RandomForestClassifier(random_state=42)</pre></div></div></div></div></div>"
            ],
            "text/plain": [
              "RandomForestClassifier(random_state=42)"
            ]
          },
          "execution_count": 18,
          "metadata": {},
          "output_type": "execute_result"
        }
      ],
      "source": [
        "# Build a RandomForestClassifier (you can use other classifiers as well)\n",
        "clf = RandomForestClassifier(random_state=42)\n",
        "clf.fit(X_train, y_train)"
      ]
    },
    {
      "cell_type": "code",
      "execution_count": null,
      "metadata": {
        "id": "oYyRUJkUjmnK"
      },
      "outputs": [],
      "source": [
        "# Make predictions and evaluate the model\n",
        "y_pred = clf.predict(X_test)\n",
        "accuracy = accuracy_score(y_test, y_pred)\n",
        "classification_rep = classification_report(y_test, y_pred)"
      ]
    },
    {
      "cell_type": "code",
      "execution_count": null,
      "metadata": {
        "colab": {
          "base_uri": "https://localhost:8080/"
        },
        "id": "pKO-Iph5jtIy",
        "outputId": "b3571423-064f-442f-bf33-07403b17bdcf"
      },
      "outputs": [
        {
          "name": "stdout",
          "output_type": "stream",
          "text": [
            "Accuracy: 0.8188868613138686\n",
            "Classification Report:\n",
            "              precision    recall  f1-score   support\n",
            "\n",
            "       22821       0.00      0.00      0.00         0\n",
            "       26216       0.00      0.00      0.00         1\n",
            "       28020       0.00      0.00      0.00         1\n",
            "       28034       0.00      0.00      0.00         1\n",
            "       28078       1.00      0.50      0.67         2\n",
            "       28105       0.78      0.70      0.74        10\n",
            "       28110       0.00      0.00      0.00         1\n",
            "       28112       0.00      0.00      0.00         1\n",
            "       28115       0.00      0.00      0.00         1\n",
            "       28134       1.00      0.80      0.89         5\n",
            "282-9              0.00      0.00      0.00         0\n",
            "        2820       0.00      0.00      0.00         3\n",
            "       28201       1.00      0.33      0.50         3\n",
            "       28202       0.83      0.88      0.85        96\n",
            "       28203       0.77      0.93      0.84        40\n",
            "       28204       0.75      0.75      0.75        12\n",
            "       28205       0.94      0.92      0.93       247\n",
            "       28206       0.68      0.80      0.73        86\n",
            "       28207       1.00      0.20      0.33         5\n",
            "       28208       0.90      0.87      0.89       281\n",
            "28208-3604         0.00      0.00      0.00         1\n",
            "28208-5762         0.00      0.00      0.00         0\n",
            "       28209       0.80      0.76      0.78        42\n",
            "       28210       0.62      0.62      0.62        80\n",
            "28210-8130         0.00      0.00      0.00         1\n",
            "28210-8194         0.00      0.00      0.00         1\n",
            "       28211       0.68      0.83      0.75        30\n",
            "       28212       0.82      0.89      0.85       131\n",
            "28212-2913         0.00      0.00      0.00         1\n",
            "       28213       0.80      0.84      0.82       160\n",
            "       28214       0.76      0.83      0.80        89\n",
            "28214-9041         0.00      0.00      0.00         0\n",
            "       28215       0.88      0.77      0.82       140\n",
            "       28216       0.88      0.82      0.85       158\n",
            "28216-4005         0.00      0.00      0.00         0\n",
            "       28217       0.79      0.77      0.78       124\n",
            "       28218       0.00      0.00      0.00         1\n",
            "       28219       0.00      0.00      0.00         1\n",
            "        2822       0.00      0.00      0.00         1\n",
            "       28223       0.00      0.00      0.00         1\n",
            "       28226       0.55      0.63      0.59        19\n",
            "       28227       0.67      0.75      0.71        53\n",
            "       28262       0.82      0.80      0.81        99\n",
            "28262-0665         0.00      0.00      0.00         1\n",
            "       28269       0.89      0.87      0.88       111\n",
            "28269-0440         1.00      1.00      1.00         1\n",
            "       28270       0.85      0.71      0.77        24\n",
            "       28273       0.78      0.82      0.80        78\n",
            "28273-7024         0.00      0.00      0.00         1\n",
            "       28277       0.82      0.95      0.88        19\n",
            "       28278       0.74      0.82      0.78        17\n",
            "282o6              0.00      0.00      0.00         1\n",
            "       28739       0.00      0.00      0.00         1\n",
            "       28806       0.00      0.00      0.00         2\n",
            "       29205       0.00      0.00      0.00         0\n",
            "       29209       0.00      0.00      0.00         1\n",
            "       29210       0.00      0.00      0.00         1\n",
            "       29213       0.00      0.00      0.00         1\n",
            "       29227       1.00      1.00      1.00         1\n",
            "         304       0.00      0.00      0.00         1\n",
            "       82862       1.00      1.00      1.00         1\n",
            "C-2822             0.00      0.00      0.00         1\n",
            "\n",
            "    accuracy                           0.82      2192\n",
            "   macro avg       0.42      0.39      0.39      2192\n",
            "weighted avg       0.82      0.82      0.82      2192\n",
            "\n"
          ]
        }
      ],
      "source": [
        "# Print accuracy and classification report\n",
        "print(f\"Accuracy: {accuracy}\")\n",
        "print(\"Classification Report:\")\n",
        "print(classification_rep)"
      ]
    },
    {
      "cell_type": "code",
      "execution_count": null,
      "metadata": {
        "id": "54vNTVmMjwt5"
      },
      "outputs": [],
      "source": [
        "# Predictive Mapping\n",
        "# Create a grid of locations for predictions\n",
        "grid = gpd.GeoDataFrame.from_file('Census_Tracts_2020.shx')  # Replace with your shapefile\n"
      ]
    },
    {
      "cell_type": "code",
      "execution_count": null,
      "metadata": {
        "colab": {
          "base_uri": "https://localhost:8080/",
          "height": 339
        },
        "id": "K53z20_Lj7l8",
        "outputId": "bbdbe869-0cb9-43e5-cc15-0f84ea12e7ee"
      },
      "outputs": [
        {
          "ename": "KeyError",
          "evalue": "ignored",
          "output_type": "error",
          "traceback": [
            "\u001b[0;31m---------------------------------------------------------------------------\u001b[0m",
            "\u001b[0;31mKeyError\u001b[0m                                  Traceback (most recent call last)",
            "\u001b[0;32m<ipython-input-39-3533fcdc8da9>\u001b[0m in \u001b[0;36m<cell line: 2>\u001b[0;34m()\u001b[0m\n\u001b[1;32m      1\u001b[0m \u001b[0;31m# Use the model to predict likelihood of vehicle theft for each location in the grid\u001b[0m\u001b[0;34m\u001b[0m\u001b[0;34m\u001b[0m\u001b[0m\n\u001b[0;32m----> 2\u001b[0;31m \u001b[0mgrid\u001b[0m\u001b[0;34m[\u001b[0m\u001b[0;34m'predicted_theft_likelihood'\u001b[0m\u001b[0;34m]\u001b[0m \u001b[0;34m=\u001b[0m \u001b[0mclf\u001b[0m\u001b[0;34m.\u001b[0m\u001b[0mpredict_proba\u001b[0m\u001b[0;34m(\u001b[0m\u001b[0mgrid\u001b[0m\u001b[0;34m[\u001b[0m\u001b[0;34m[\u001b[0m\u001b[0;34m'Latitude'\u001b[0m\u001b[0;34m,\u001b[0m \u001b[0;34m'Longitude'\u001b[0m\u001b[0;34m]\u001b[0m\u001b[0;34m]\u001b[0m\u001b[0;34m)\u001b[0m\u001b[0;34m[\u001b[0m\u001b[0;34m:\u001b[0m\u001b[0;34m,\u001b[0m \u001b[0;36m1\u001b[0m\u001b[0;34m]\u001b[0m\u001b[0;34m\u001b[0m\u001b[0;34m\u001b[0m\u001b[0m\n\u001b[0m",
            "\u001b[0;32m/usr/local/lib/python3.10/dist-packages/geopandas/geodataframe.py\u001b[0m in \u001b[0;36m__getitem__\u001b[0;34m(self, key)\u001b[0m\n\u001b[1;32m   1473\u001b[0m         \u001b[0;32mreturn\u001b[0m \u001b[0ma\u001b[0m \u001b[0mGeoDataFrame\u001b[0m\u001b[0;34m.\u001b[0m\u001b[0;34m\u001b[0m\u001b[0;34m\u001b[0m\u001b[0m\n\u001b[1;32m   1474\u001b[0m         \"\"\"\n\u001b[0;32m-> 1475\u001b[0;31m         \u001b[0mresult\u001b[0m \u001b[0;34m=\u001b[0m \u001b[0msuper\u001b[0m\u001b[0;34m(\u001b[0m\u001b[0;34m)\u001b[0m\u001b[0;34m.\u001b[0m\u001b[0m__getitem__\u001b[0m\u001b[0;34m(\u001b[0m\u001b[0mkey\u001b[0m\u001b[0;34m)\u001b[0m\u001b[0;34m\u001b[0m\u001b[0;34m\u001b[0m\u001b[0m\n\u001b[0m\u001b[1;32m   1476\u001b[0m         \u001b[0;31m# Custom logic to avoid waiting for pandas GH51895\u001b[0m\u001b[0;34m\u001b[0m\u001b[0;34m\u001b[0m\u001b[0m\n\u001b[1;32m   1477\u001b[0m         \u001b[0;31m# result is not geometry dtype for multi-indexes\u001b[0m\u001b[0;34m\u001b[0m\u001b[0;34m\u001b[0m\u001b[0m\n",
            "\u001b[0;32m/usr/local/lib/python3.10/dist-packages/pandas/core/frame.py\u001b[0m in \u001b[0;36m__getitem__\u001b[0;34m(self, key)\u001b[0m\n\u001b[1;32m   3811\u001b[0m             \u001b[0;32mif\u001b[0m \u001b[0mis_iterator\u001b[0m\u001b[0;34m(\u001b[0m\u001b[0mkey\u001b[0m\u001b[0;34m)\u001b[0m\u001b[0;34m:\u001b[0m\u001b[0;34m\u001b[0m\u001b[0;34m\u001b[0m\u001b[0m\n\u001b[1;32m   3812\u001b[0m                 \u001b[0mkey\u001b[0m \u001b[0;34m=\u001b[0m \u001b[0mlist\u001b[0m\u001b[0;34m(\u001b[0m\u001b[0mkey\u001b[0m\u001b[0;34m)\u001b[0m\u001b[0;34m\u001b[0m\u001b[0;34m\u001b[0m\u001b[0m\n\u001b[0;32m-> 3813\u001b[0;31m             \u001b[0mindexer\u001b[0m \u001b[0;34m=\u001b[0m \u001b[0mself\u001b[0m\u001b[0;34m.\u001b[0m\u001b[0mcolumns\u001b[0m\u001b[0;34m.\u001b[0m\u001b[0m_get_indexer_strict\u001b[0m\u001b[0;34m(\u001b[0m\u001b[0mkey\u001b[0m\u001b[0;34m,\u001b[0m \u001b[0;34m\"columns\"\u001b[0m\u001b[0;34m)\u001b[0m\u001b[0;34m[\u001b[0m\u001b[0;36m1\u001b[0m\u001b[0;34m]\u001b[0m\u001b[0;34m\u001b[0m\u001b[0;34m\u001b[0m\u001b[0m\n\u001b[0m\u001b[1;32m   3814\u001b[0m \u001b[0;34m\u001b[0m\u001b[0m\n\u001b[1;32m   3815\u001b[0m         \u001b[0;31m# take() does not accept boolean indexers\u001b[0m\u001b[0;34m\u001b[0m\u001b[0;34m\u001b[0m\u001b[0m\n",
            "\u001b[0;32m/usr/local/lib/python3.10/dist-packages/pandas/core/indexes/base.py\u001b[0m in \u001b[0;36m_get_indexer_strict\u001b[0;34m(self, key, axis_name)\u001b[0m\n\u001b[1;32m   6068\u001b[0m             \u001b[0mkeyarr\u001b[0m\u001b[0;34m,\u001b[0m \u001b[0mindexer\u001b[0m\u001b[0;34m,\u001b[0m \u001b[0mnew_indexer\u001b[0m \u001b[0;34m=\u001b[0m \u001b[0mself\u001b[0m\u001b[0;34m.\u001b[0m\u001b[0m_reindex_non_unique\u001b[0m\u001b[0;34m(\u001b[0m\u001b[0mkeyarr\u001b[0m\u001b[0;34m)\u001b[0m\u001b[0;34m\u001b[0m\u001b[0;34m\u001b[0m\u001b[0m\n\u001b[1;32m   6069\u001b[0m \u001b[0;34m\u001b[0m\u001b[0m\n\u001b[0;32m-> 6070\u001b[0;31m         \u001b[0mself\u001b[0m\u001b[0;34m.\u001b[0m\u001b[0m_raise_if_missing\u001b[0m\u001b[0;34m(\u001b[0m\u001b[0mkeyarr\u001b[0m\u001b[0;34m,\u001b[0m \u001b[0mindexer\u001b[0m\u001b[0;34m,\u001b[0m \u001b[0maxis_name\u001b[0m\u001b[0;34m)\u001b[0m\u001b[0;34m\u001b[0m\u001b[0;34m\u001b[0m\u001b[0m\n\u001b[0m\u001b[1;32m   6071\u001b[0m \u001b[0;34m\u001b[0m\u001b[0m\n\u001b[1;32m   6072\u001b[0m         \u001b[0mkeyarr\u001b[0m \u001b[0;34m=\u001b[0m \u001b[0mself\u001b[0m\u001b[0;34m.\u001b[0m\u001b[0mtake\u001b[0m\u001b[0;34m(\u001b[0m\u001b[0mindexer\u001b[0m\u001b[0;34m)\u001b[0m\u001b[0;34m\u001b[0m\u001b[0;34m\u001b[0m\u001b[0m\n",
            "\u001b[0;32m/usr/local/lib/python3.10/dist-packages/pandas/core/indexes/base.py\u001b[0m in \u001b[0;36m_raise_if_missing\u001b[0;34m(self, key, indexer, axis_name)\u001b[0m\n\u001b[1;32m   6128\u001b[0m                 \u001b[0;32mif\u001b[0m \u001b[0muse_interval_msg\u001b[0m\u001b[0;34m:\u001b[0m\u001b[0;34m\u001b[0m\u001b[0;34m\u001b[0m\u001b[0m\n\u001b[1;32m   6129\u001b[0m                     \u001b[0mkey\u001b[0m \u001b[0;34m=\u001b[0m \u001b[0mlist\u001b[0m\u001b[0;34m(\u001b[0m\u001b[0mkey\u001b[0m\u001b[0;34m)\u001b[0m\u001b[0;34m\u001b[0m\u001b[0;34m\u001b[0m\u001b[0m\n\u001b[0;32m-> 6130\u001b[0;31m                 \u001b[0;32mraise\u001b[0m \u001b[0mKeyError\u001b[0m\u001b[0;34m(\u001b[0m\u001b[0;34mf\"None of [{key}] are in the [{axis_name}]\"\u001b[0m\u001b[0;34m)\u001b[0m\u001b[0;34m\u001b[0m\u001b[0;34m\u001b[0m\u001b[0m\n\u001b[0m\u001b[1;32m   6131\u001b[0m \u001b[0;34m\u001b[0m\u001b[0m\n\u001b[1;32m   6132\u001b[0m             \u001b[0mnot_found\u001b[0m \u001b[0;34m=\u001b[0m \u001b[0mlist\u001b[0m\u001b[0;34m(\u001b[0m\u001b[0mensure_index\u001b[0m\u001b[0;34m(\u001b[0m\u001b[0mkey\u001b[0m\u001b[0;34m)\u001b[0m\u001b[0;34m[\u001b[0m\u001b[0mmissing_mask\u001b[0m\u001b[0;34m.\u001b[0m\u001b[0mnonzero\u001b[0m\u001b[0;34m(\u001b[0m\u001b[0;34m)\u001b[0m\u001b[0;34m[\u001b[0m\u001b[0;36m0\u001b[0m\u001b[0;34m]\u001b[0m\u001b[0;34m]\u001b[0m\u001b[0;34m.\u001b[0m\u001b[0munique\u001b[0m\u001b[0;34m(\u001b[0m\u001b[0;34m)\u001b[0m\u001b[0;34m)\u001b[0m\u001b[0;34m\u001b[0m\u001b[0;34m\u001b[0m\u001b[0m\n",
            "\u001b[0;31mKeyError\u001b[0m: \"None of [Index(['Latitude', 'Longitude'], dtype='object')] are in the [columns]\""
          ]
        }
      ],
      "source": [
        "# Use the model to predict likelihood of vehicle theft for each location in the grid\n",
        "grid['predicted_theft_likelihood'] = clf.predict_proba(grid[['Latitude', 'Longitude']])[:, 1]\n"
      ]
    },
    {
      "cell_type": "code",
      "execution_count": null,
      "metadata": {
        "id": "HhJzJtwmj_mD"
      },
      "outputs": [],
      "source": [
        "# Heatmaps and Visualizations\n",
        "# Visualize predicted likelihood of vehicle theft on the map\n",
        "fig, ax = plt.subplots(figsize=(10, 10))\n",
        "grid.plot(column='predicted_theft_likelihood', cmap='coolwarm', linewidth=0.8, ax=ax, legend=True)\n",
        "plt.title(\"Predicted Likelihood of Vehicle Theft\")\n",
        "plt.show()"
      ]
    }
  ],
  "metadata": {
    "colab": {
      "include_colab_link": true,
      "provenance": []
    },
    "kernelspec": {
      "display_name": "Python 3",
      "name": "python3"
    },
    "language_info": {
      "codemirror_mode": {
        "name": "ipython",
        "version": 3
      },
      "file_extension": ".py",
      "mimetype": "text/x-python",
      "name": "python",
      "nbconvert_exporter": "python",
      "pygments_lexer": "ipython3",
      "version": "3.11.5"
    }
  },
  "nbformat": 4,
  "nbformat_minor": 0
}
