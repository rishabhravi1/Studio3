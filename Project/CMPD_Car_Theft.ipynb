{
  "cells": [
    {
      "cell_type": "markdown",
      "metadata": {
        "id": "DoMNnIgSujXH"
      },
      "source": [
        "# CMPD Car Theft Project\n",
        "\n",
        "## By: Connor , Waqas, Issam , Rishabh\n",
        "---\n",
        "\n",
        "\n"
      ]
    },
    {
      "cell_type": "markdown",
      "metadata": {
        "id": "VRz6nK4Mvlj5"
      },
      "source": [
        "### Importing required libraries and data"
      ]
    },
    {
      "cell_type": "code",
      "execution_count": 18,
      "metadata": {
        "id": "5siDjUTuYs5T"
      },
      "outputs": [],
      "source": [
        "# Import Libraries\n",
        "import pandas as pd\n",
        "import numpy as np\n",
        "import seaborn as sns\n",
        "import matplotlib.pyplot as plt\n",
        "%matplotlib inline\n",
        "\n",
        "import warnings\n",
        "warnings.filterwarnings('ignore')"
      ]
    },
    {
      "cell_type": "code",
      "execution_count": 19,
      "metadata": {
        "id": "nEpFTLtNv0bn"
      },
      "outputs": [],
      "source": [
        "# Loading the 2011-2016 CMPDData\n",
        "\n",
        "# 2011 Incident Data\n",
        "incident_2011 = pd.read_csv(\"2011_Incident.csv\")\n",
        "\n",
        "# 2012 Incident Data\n",
        "incident_2012 = pd.read_csv(\"2012_Incident.csv\")\n",
        "\n",
        "# 2013 Incident Data\n",
        "incident_2013 = pd.read_csv(\"2013_Incident.csv\")\n",
        "\n",
        "# 2014 Incident Data\n",
        "incident_2014 = pd.read_csv(\"2014_Incident.csv\")\n",
        "\n",
        "# 2015 Incident Data\n",
        "incident_2015 = pd.read_csv(\"2015_Incident.csv\")\n",
        "\n",
        "# 2016 Incident Data\n",
        "incident_2016 = pd.read_csv(\"2016_Incident.csv\")\n"
      ]
    },
    {
      "cell_type": "markdown",
      "metadata": {
        "id": "8fu30LiCwR9K"
      },
      "source": [
        "## Exploratory Data Analysis (EDA)"
      ]
    },
    {
      "cell_type": "markdown",
      "metadata": {
        "id": "n25psgiQeOko"
      },
      "source": [
        "Merging all CMPD Data (2011-2016)"
      ]
    },
    {
      "cell_type": "code",
      "execution_count": 20,
      "metadata": {
        "id": "io-zr5vmKtmI"
      },
      "outputs": [],
      "source": [
        "# merging all the data sets into one\n",
        "all_incident_df = pd.concat([incident_2011, incident_2012, incident_2013, incident_2014, incident_2015, incident_2016], ignore_index=True)\n"
      ]
    },
    {
      "cell_type": "code",
      "execution_count": 21,
      "metadata": {
        "colab": {
          "base_uri": "https://localhost:8080/",
          "height": 446
        },
        "id": "1TjCfRAMxQeU",
        "outputId": "37368b2f-a377-4692-baa4-410cd259fba1"
      },
      "outputs": [
        {
          "data": {
            "text/html": [
              "<div>\n",
              "<style scoped>\n",
              "    .dataframe tbody tr th:only-of-type {\n",
              "        vertical-align: middle;\n",
              "    }\n",
              "\n",
              "    .dataframe tbody tr th {\n",
              "        vertical-align: top;\n",
              "    }\n",
              "\n",
              "    .dataframe thead th {\n",
              "        text-align: right;\n",
              "    }\n",
              "</style>\n",
              "<table border=\"1\" class=\"dataframe\">\n",
              "  <thead>\n",
              "    <tr style=\"text-align: right;\">\n",
              "      <th></th>\n",
              "      <th>Complaint_No</th>\n",
              "      <th>Block_No</th>\n",
              "      <th>Direction</th>\n",
              "      <th>Street_Name</th>\n",
              "      <th>Street_Type</th>\n",
              "      <th>Suffix</th>\n",
              "      <th>Apt_No</th>\n",
              "      <th>City</th>\n",
              "      <th>State</th>\n",
              "      <th>Zipcode</th>\n",
              "      <th>...</th>\n",
              "      <th>Clearance_Status</th>\n",
              "      <th>Clearance_Date</th>\n",
              "      <th>Case_Status</th>\n",
              "      <th>Reporting_Agency</th>\n",
              "      <th>Follow_up_Section</th>\n",
              "      <th>NIBRS_Hi_Class</th>\n",
              "      <th>Incident_From_Time</th>\n",
              "      <th>Incident_to_Time</th>\n",
              "      <th>Unnamed: 28</th>\n",
              "      <th>Unnamed: 29</th>\n",
              "    </tr>\n",
              "  </thead>\n",
              "  <tbody>\n",
              "    <tr>\n",
              "      <th>0</th>\n",
              "      <td>20110101000308</td>\n",
              "      <td>4425</td>\n",
              "      <td></td>\n",
              "      <td>EDDLEMAN</td>\n",
              "      <td>RD</td>\n",
              "      <td></td>\n",
              "      <td></td>\n",
              "      <td>CHARLOTTE</td>\n",
              "      <td>NC</td>\n",
              "      <td>28208</td>\n",
              "      <td>...</td>\n",
              "      <td>Normal Clearance - Cleared by Arrest          ...</td>\n",
              "      <td>1/1/2011</td>\n",
              "      <td>Close/Cleared</td>\n",
              "      <td>Charlotte-Mecklenburg Police Department</td>\n",
              "      <td>27-FREEDOM DIVISION                           ...</td>\n",
              "      <td>Drug Equipment Violations                     ...</td>\n",
              "      <td>NaN</td>\n",
              "      <td>NaN</td>\n",
              "      <td>NaN</td>\n",
              "      <td>NaN</td>\n",
              "    </tr>\n",
              "    <tr>\n",
              "      <th>1</th>\n",
              "      <td>20110101000700</td>\n",
              "      <td>2228</td>\n",
              "      <td></td>\n",
              "      <td>BEATTIES FORD</td>\n",
              "      <td>RD</td>\n",
              "      <td></td>\n",
              "      <td></td>\n",
              "      <td>CHARLOTTE</td>\n",
              "      <td>NC</td>\n",
              "      <td>28216</td>\n",
              "      <td>...</td>\n",
              "      <td>Normal Clearance - Cleared by Arrest          ...</td>\n",
              "      <td>1/1/2011</td>\n",
              "      <td>Close/Cleared</td>\n",
              "      <td>Charlotte-Mecklenburg Police Department</td>\n",
              "      <td>02-METRO DIVISION                             ...</td>\n",
              "      <td>Aggravated Assault                            ...</td>\n",
              "      <td>NaN</td>\n",
              "      <td>NaN</td>\n",
              "      <td>NaN</td>\n",
              "      <td>NaN</td>\n",
              "    </tr>\n",
              "    <tr>\n",
              "      <th>2</th>\n",
              "      <td>20110101001104</td>\n",
              "      <td>2300</td>\n",
              "      <td>N</td>\n",
              "      <td>TRYON</td>\n",
              "      <td>ST</td>\n",
              "      <td></td>\n",
              "      <td></td>\n",
              "      <td>CHARLOTTE</td>\n",
              "      <td>NC</td>\n",
              "      <td></td>\n",
              "      <td>...</td>\n",
              "      <td>Open                                          ...</td>\n",
              "      <td></td>\n",
              "      <td>Inactive</td>\n",
              "      <td>Charlotte-Mecklenburg Police Department</td>\n",
              "      <td>02-METRO DIVISION                             ...</td>\n",
              "      <td>Damage/Vandalism Of Property                  ...</td>\n",
              "      <td>NaN</td>\n",
              "      <td>NaN</td>\n",
              "      <td>NaN</td>\n",
              "      <td>NaN</td>\n",
              "    </tr>\n",
              "    <tr>\n",
              "      <th>3</th>\n",
              "      <td>20110101001302</td>\n",
              "      <td>4027</td>\n",
              "      <td></td>\n",
              "      <td>QUAIL GLENN</td>\n",
              "      <td>CT</td>\n",
              "      <td></td>\n",
              "      <td>K</td>\n",
              "      <td>CHARLOTTE</td>\n",
              "      <td>NC</td>\n",
              "      <td>28226</td>\n",
              "      <td>...</td>\n",
              "      <td>Open                                          ...</td>\n",
              "      <td></td>\n",
              "      <td>Inactive</td>\n",
              "      <td>Charlotte-Mecklenburg Police Department</td>\n",
              "      <td>22-SOUTH DIVISION                             ...</td>\n",
              "      <td>Burglary/B&amp;E                                  ...</td>\n",
              "      <td>NaN</td>\n",
              "      <td>NaN</td>\n",
              "      <td>NaN</td>\n",
              "      <td>NaN</td>\n",
              "    </tr>\n",
              "    <tr>\n",
              "      <th>4</th>\n",
              "      <td>20110101002401</td>\n",
              "      <td>150</td>\n",
              "      <td>S</td>\n",
              "      <td>COLLEGE</td>\n",
              "      <td>ST</td>\n",
              "      <td></td>\n",
              "      <td></td>\n",
              "      <td>CHARLOTTE</td>\n",
              "      <td>NC</td>\n",
              "      <td>28202</td>\n",
              "      <td>...</td>\n",
              "      <td>Normal Clearance - Cleared by Arrest          ...</td>\n",
              "      <td>1/1/2011</td>\n",
              "      <td>Close/Cleared</td>\n",
              "      <td>Charlotte-Mecklenburg Police Department</td>\n",
              "      <td>01-CENTRAL DIVISION                           ...</td>\n",
              "      <td>Affray                                        ...</td>\n",
              "      <td>NaN</td>\n",
              "      <td>NaN</td>\n",
              "      <td>NaN</td>\n",
              "      <td>NaN</td>\n",
              "    </tr>\n",
              "  </tbody>\n",
              "</table>\n",
              "<p>5 rows × 30 columns</p>\n",
              "</div>"
            ],
            "text/plain": [
              "     Complaint_No Block_No Direction  \\\n",
              "0  20110101000308     4425             \n",
              "1  20110101000700     2228             \n",
              "2  20110101001104     2300        N    \n",
              "3  20110101001302     4027             \n",
              "4  20110101002401      150        S    \n",
              "\n",
              "                                Street_Name Street_Type    Suffix      Apt_No  \\\n",
              "0  EDDLEMAN                                          RD                         \n",
              "1  BEATTIES FORD                                     RD                         \n",
              "2  TRYON                                             ST                         \n",
              "3  QUAIL GLENN                                       CT            K            \n",
              "4  COLLEGE                                           ST                         \n",
              "\n",
              "                                       City State       Zipcode  ...  \\\n",
              "0  CHARLOTTE                                   NC         28208  ...   \n",
              "1  CHARLOTTE                                   NC         28216  ...   \n",
              "2  CHARLOTTE                                   NC                ...   \n",
              "3  CHARLOTTE                                   NC         28226  ...   \n",
              "4  CHARLOTTE                                   NC         28202  ...   \n",
              "\n",
              "                                    Clearance_Status Clearance_Date  \\\n",
              "0  Normal Clearance - Cleared by Arrest          ...       1/1/2011   \n",
              "1  Normal Clearance - Cleared by Arrest          ...       1/1/2011   \n",
              "2  Open                                          ...                  \n",
              "3  Open                                          ...                  \n",
              "4  Normal Clearance - Cleared by Arrest          ...       1/1/2011   \n",
              "\n",
              "                 Case_Status                               Reporting_Agency  \\\n",
              "0  Close/Cleared              Charlotte-Mecklenburg Police Department         \n",
              "1  Close/Cleared              Charlotte-Mecklenburg Police Department         \n",
              "2  Inactive                   Charlotte-Mecklenburg Police Department         \n",
              "3  Inactive                   Charlotte-Mecklenburg Police Department         \n",
              "4  Close/Cleared              Charlotte-Mecklenburg Police Department         \n",
              "\n",
              "                                   Follow_up_Section  \\\n",
              "0  27-FREEDOM DIVISION                           ...   \n",
              "1  02-METRO DIVISION                             ...   \n",
              "2  02-METRO DIVISION                             ...   \n",
              "3  22-SOUTH DIVISION                             ...   \n",
              "4  01-CENTRAL DIVISION                           ...   \n",
              "\n",
              "                                      NIBRS_Hi_Class  Incident_From_Time  \\\n",
              "0  Drug Equipment Violations                     ...                 NaN   \n",
              "1  Aggravated Assault                            ...                 NaN   \n",
              "2  Damage/Vandalism Of Property                  ...                 NaN   \n",
              "3  Burglary/B&E                                  ...                 NaN   \n",
              "4  Affray                                        ...                 NaN   \n",
              "\n",
              "  Incident_to_Time Unnamed: 28 Unnamed: 29  \n",
              "0              NaN         NaN         NaN  \n",
              "1              NaN         NaN         NaN  \n",
              "2              NaN         NaN         NaN  \n",
              "3              NaN         NaN         NaN  \n",
              "4              NaN         NaN         NaN  \n",
              "\n",
              "[5 rows x 30 columns]"
            ]
          },
          "execution_count": 21,
          "metadata": {},
          "output_type": "execute_result"
        }
      ],
      "source": [
        "all_incident_df.head()"
      ]
    },
    {
      "cell_type": "code",
      "execution_count": 22,
      "metadata": {
        "colab": {
          "base_uri": "https://localhost:8080/"
        },
        "id": "cheXiW5MwXY1",
        "outputId": "f2c122fd-7ec7-4d60-e997-12832c7f0215"
      },
      "outputs": [
        {
          "name": "stdout",
          "output_type": "stream",
          "text": [
            "<class 'pandas.core.frame.DataFrame'>\n",
            "RangeIndex: 566789 entries, 0 to 566788\n",
            "Data columns (total 30 columns):\n",
            " #   Column               Non-Null Count   Dtype  \n",
            "---  ------               --------------   -----  \n",
            " 0   Complaint_No         566789 non-null  int64  \n",
            " 1   Block_No             566789 non-null  object \n",
            " 2   Direction            566789 non-null  object \n",
            " 3   Street_Name          566789 non-null  object \n",
            " 4   Street_Type          566788 non-null  object \n",
            " 5   Suffix               566789 non-null  object \n",
            " 6   Apt_No               566789 non-null  object \n",
            " 7   City                 566789 non-null  object \n",
            " 8   State                566789 non-null  object \n",
            " 9   Zipcode              566789 non-null  object \n",
            " 10  X_Coordinate         566789 non-null  object \n",
            " 11  Y_Coordinate         566789 non-null  object \n",
            " 12  Division             566789 non-null  object \n",
            " 13  Reported_Date        566789 non-null  object \n",
            " 14  Location_Desc        566788 non-null  float64\n",
            " 15  Location_Type        566789 non-null  object \n",
            " 16  Incident_From_Date   566789 non-null  object \n",
            " 17  Incident_to_date     432485 non-null  object \n",
            " 18  Place1               566789 non-null  object \n",
            " 19  Place2               566789 non-null  object \n",
            " 20  Clearance_Status     566789 non-null  object \n",
            " 21  Clearance_Date       566789 non-null  object \n",
            " 22  Case_Status          566789 non-null  object \n",
            " 23  Reporting_Agency     566789 non-null  object \n",
            " 24  Follow_up_Section    566789 non-null  object \n",
            " 25  NIBRS_Hi_Class       566789 non-null  object \n",
            " 26   Incident_From_Time  501254 non-null  object \n",
            " 27  Incident_to_Time     366949 non-null  float64\n",
            " 28  Unnamed: 28          1 non-null       object \n",
            " 29  Unnamed: 29          1 non-null       object \n",
            "dtypes: float64(2), int64(1), object(27)\n",
            "memory usage: 129.7+ MB\n"
          ]
        }
      ],
      "source": [
        "all_incident_df.info()"
      ]
    },
    {
      "cell_type": "code",
      "execution_count": 23,
      "metadata": {
        "colab": {
          "base_uri": "https://localhost:8080/"
        },
        "id": "ORshGhmK1bhS",
        "outputId": "9c6e7431-3b60-44b6-adc6-d1c16079fb1e"
      },
      "outputs": [
        {
          "name": "stdout",
          "output_type": "stream",
          "text": [
            "Index(['Complaint_No', 'Block_No', 'Direction', 'Street_Name', 'Street_Type',\n",
            "       'Suffix', 'Apt_No', 'City', 'State', 'Zipcode', 'X_Coordinate',\n",
            "       'Y_Coordinate', 'Division', 'Reported_Date', 'Location_Desc',\n",
            "       'Location_Type', 'Incident_From_Date', 'Incident_to_date', 'Place1',\n",
            "       'Place2', 'Clearance_Status', 'Clearance_Date', 'Case_Status',\n",
            "       'Reporting_Agency', 'Follow_up_Section', 'NIBRS_Hi_Class',\n",
            "       ' Incident_From_Time', 'Incident_to_Time', 'Unnamed: 28',\n",
            "       'Unnamed: 29'],\n",
            "      dtype='object')\n"
          ]
        }
      ],
      "source": [
        "print(all_incident_df.columns)"
      ]
    },
    {
      "cell_type": "markdown",
      "metadata": {
        "id": "3g9oOatX2MLA"
      },
      "source": [
        "We need to combine 'Direction', 'Street Name' and 'Street Type' into 1 column called 'Street Address'"
      ]
    },
    {
      "cell_type": "code",
      "execution_count": 24,
      "metadata": {
        "id": "wb_g57jV1m2y"
      },
      "outputs": [],
      "source": [
        "# Combining Direction, Street_Name, Street_Type into Street_Address\n",
        "all_incident_df.loc[:, 'Street_Address'] = all_incident_df['Direction'] + ' ' + all_incident_df['Street_Name'] + ' ' + all_incident_df['Street_Type']\n"
      ]
    },
    {
      "cell_type": "markdown",
      "metadata": {
        "id": "Q60-MF1emREO"
      },
      "source": [
        "We can get rid of all the extra columns that are not very relevant to our project.\n"
      ]
    },
    {
      "cell_type": "code",
      "execution_count": 25,
      "metadata": {
        "id": "rhJqjw-poAnD"
      },
      "outputs": [],
      "source": [
        "# Adjusting the columns we want in our dataset\n",
        "columns_to_keep = ['Street_Address','Zipcode','X_Coordinate','Y_Coordinate','NIBRS_Hi_Class']\n",
        "\n",
        "all_incident_df = all_incident_df[columns_to_keep]"
      ]
    },
    {
      "cell_type": "code",
      "execution_count": 26,
      "metadata": {
        "colab": {
          "base_uri": "https://localhost:8080/",
          "height": 206
        },
        "id": "Td2FzRl641X-",
        "outputId": "059bc8a1-2ad2-4b5a-b1e7-8c23d6c1067c"
      },
      "outputs": [
        {
          "data": {
            "text/html": [
              "<div>\n",
              "<style scoped>\n",
              "    .dataframe tbody tr th:only-of-type {\n",
              "        vertical-align: middle;\n",
              "    }\n",
              "\n",
              "    .dataframe tbody tr th {\n",
              "        vertical-align: top;\n",
              "    }\n",
              "\n",
              "    .dataframe thead th {\n",
              "        text-align: right;\n",
              "    }\n",
              "</style>\n",
              "<table border=\"1\" class=\"dataframe\">\n",
              "  <thead>\n",
              "    <tr style=\"text-align: right;\">\n",
              "      <th></th>\n",
              "      <th>Street_Address</th>\n",
              "      <th>Zipcode</th>\n",
              "      <th>X_Coordinate</th>\n",
              "      <th>Y_Coordinate</th>\n",
              "      <th>NIBRS_Hi_Class</th>\n",
              "    </tr>\n",
              "  </thead>\n",
              "  <tbody>\n",
              "    <tr>\n",
              "      <th>0</th>\n",
              "      <td>EDDLEMAN                                 RD</td>\n",
              "      <td>28208</td>\n",
              "      <td>1433698</td>\n",
              "      <td>551674</td>\n",
              "      <td>Drug Equipment Violations                     ...</td>\n",
              "    </tr>\n",
              "    <tr>\n",
              "      <th>1</th>\n",
              "      <td>BEATTIES FORD                            RD</td>\n",
              "      <td>28216</td>\n",
              "      <td>1446676</td>\n",
              "      <td>556631</td>\n",
              "      <td>Aggravated Assault                            ...</td>\n",
              "    </tr>\n",
              "    <tr>\n",
              "      <th>2</th>\n",
              "      <td>N  TRYON                                    ST</td>\n",
              "      <td></td>\n",
              "      <td>1456850</td>\n",
              "      <td>549120</td>\n",
              "      <td>Damage/Vandalism Of Property                  ...</td>\n",
              "    </tr>\n",
              "    <tr>\n",
              "      <th>3</th>\n",
              "      <td>QUAIL GLENN                              CT</td>\n",
              "      <td>28226</td>\n",
              "      <td>1453488</td>\n",
              "      <td>502939</td>\n",
              "      <td>Burglary/B&amp;E                                  ...</td>\n",
              "    </tr>\n",
              "    <tr>\n",
              "      <th>4</th>\n",
              "      <td>S  COLLEGE                                  ST</td>\n",
              "      <td>28202</td>\n",
              "      <td>1449765</td>\n",
              "      <td>542246</td>\n",
              "      <td>Affray                                        ...</td>\n",
              "    </tr>\n",
              "  </tbody>\n",
              "</table>\n",
              "</div>"
            ],
            "text/plain": [
              "                                   Street_Address       Zipcode X_Coordinate  \\\n",
              "0     EDDLEMAN                                 RD         28208      1433698   \n",
              "1     BEATTIES FORD                            RD         28216      1446676   \n",
              "2  N  TRYON                                    ST                    1456850   \n",
              "3     QUAIL GLENN                              CT         28226      1453488   \n",
              "4  S  COLLEGE                                  ST         28202      1449765   \n",
              "\n",
              "  Y_Coordinate                                     NIBRS_Hi_Class  \n",
              "0       551674  Drug Equipment Violations                     ...  \n",
              "1       556631  Aggravated Assault                            ...  \n",
              "2       549120  Damage/Vandalism Of Property                  ...  \n",
              "3       502939  Burglary/B&E                                  ...  \n",
              "4       542246  Affray                                        ...  "
            ]
          },
          "execution_count": 26,
          "metadata": {},
          "output_type": "execute_result"
        }
      ],
      "source": [
        "all_incident_df.head()"
      ]
    },
    {
      "cell_type": "code",
      "execution_count": 27,
      "metadata": {
        "colab": {
          "base_uri": "https://localhost:8080/"
        },
        "id": "9wDw2HIBjtQo",
        "outputId": "b1995a91-f03d-4f96-b03b-23a08ccf00b3"
      },
      "outputs": [
        {
          "name": "stdout",
          "output_type": "stream",
          "text": [
            "['Drug Equipment Violations                                                                           '\n",
            " 'Aggravated Assault                                                                                  '\n",
            " 'Damage/Vandalism Of Property                                                                        '\n",
            " 'Burglary/B&E                                                                                        '\n",
            " 'Affray                                                                                              '\n",
            " 'All Other Offenses                                                                                  '\n",
            " 'Simple Assault                                                                                      '\n",
            " 'Missing Person                                                                                      '\n",
            " 'Drug/Narcotic Violations                                                                            '\n",
            " 'Indecent Exposure                                                                                   '\n",
            " 'Driving Under The Influence                                                                         '\n",
            " 'Trespass Of Real Property                                                                           '\n",
            " 'Disorderly Conduct                                                                                  '\n",
            " 'Weapon Law Violations                                                                               '\n",
            " 'Hit And Run (Property Only)                                                                         '\n",
            " 'Theft From Motor Vehicle                                                                            '\n",
            " 'Other Unlisted Non-Criminal                                                                         '\n",
            " 'Suicide                                                                                             '\n",
            " 'Forcible Rape                                                                                       '\n",
            " 'Theft From Building                                                                                 '\n",
            " 'False Pretenses/Swindle                                                                             '\n",
            " 'Intimidation                                                                                        '\n",
            " 'Motor Vehicle Theft                                                                                 '\n",
            " 'Shoplifting                                                                                         '\n",
            " 'Theft of Motor Vehicle Parts from Vehicle                                                           '\n",
            " 'All Other Thefts                                                                                    '\n",
            " 'Counterfeiting/Forgery                                                                              '\n",
            " 'Robbery                                                                                             '\n",
            " 'Vehicle Recovery                                                                                    '\n",
            " 'Kidnapping                                                                                          '\n",
            " 'Purse-Snatching                                                                                     '\n",
            " 'Sudden/Natural Death Investigation                                                                  '\n",
            " 'Credit Card/Teller Fraud                                                                            '\n",
            " 'Embezzlement                                                                                        '\n",
            " 'Overdose                                                                                            '\n",
            " 'Family Offenses; Nonviolent                                                                         '\n",
            " 'Stolen Property Offenses                                                                            '\n",
            " 'Fire (Accidental/Non-Arson)                                                                         '\n",
            " 'Impersonation                                                                                       '\n",
            " 'Theft From Coin-Operated Machine Or Device                                                          '\n",
            " 'Statutory Rape                                                                                      '\n",
            " 'Forcible Fondling                                                                                   '\n",
            " 'Wire Fraud                                                                                          '\n",
            " 'Pocket-Picking                                                                                      '\n",
            " 'Dog Bite/Animal Control Incident                                                                    '\n",
            " 'Pornography/Obscene Material                                                                        '\n",
            " 'Prostitution                                                                                        '\n",
            " 'Public Accident                                                                                     '\n",
            " 'Liquor Law Violations                                                                               '\n",
            " 'Forcible Sodomy                                                                                     '\n",
            " 'Murder                                                                                              '\n",
            " 'Incest                                                                                              '\n",
            " 'Justifiable Homicide                                                                                '\n",
            " 'Worthless Check: Felony (over $2000)                                                                '\n",
            " 'Arson                                                                                               '\n",
            " 'Curfew/Loitering/Vagrancy Violations                                                                '\n",
            " 'Extortion/Blackmail                                                                                 '\n",
            " 'Gambling Equipment Violations                                                                       '\n",
            " 'Sexual Assault With Object                                                                          '\n",
            " 'Peeping Tom                                                                                         '\n",
            " 'Betting/Wagering                                                                                    '\n",
            " 'Assisting Prostitution                                                                              '\n",
            " 'Assisting Gambling                                                                                  '\n",
            " 'Welfare Fraud                                                                                       '\n",
            " 'Negligent Manslaughter                                                                              '\n",
            " 'Charlotte-Mecklenburg Police Department      '\n",
            " 'Bribery                                                                                             '\n",
            " 'Gas Leak                                                                                            ']\n"
          ]
        }
      ],
      "source": [
        "# Displaying unique values in the 'NIBRS_Hi_Class' column\n",
        "print(all_incident_df['NIBRS_Hi_Class'].unique())\n"
      ]
    },
    {
      "cell_type": "code",
      "execution_count": 28,
      "metadata": {
        "colab": {
          "base_uri": "https://localhost:8080/",
          "height": 520
        },
        "id": "yvMjJjTSllHg",
        "outputId": "8b776751-7890-4982-e583-e4c8ebfaa8bc"
      },
      "outputs": [
        {
          "data": {
            "text/html": [
              "<div>\n",
              "<style scoped>\n",
              "    .dataframe tbody tr th:only-of-type {\n",
              "        vertical-align: middle;\n",
              "    }\n",
              "\n",
              "    .dataframe tbody tr th {\n",
              "        vertical-align: top;\n",
              "    }\n",
              "\n",
              "    .dataframe thead th {\n",
              "        text-align: right;\n",
              "    }\n",
              "</style>\n",
              "<table border=\"1\" class=\"dataframe\">\n",
              "  <thead>\n",
              "    <tr style=\"text-align: right;\">\n",
              "      <th></th>\n",
              "      <th>Street_Address</th>\n",
              "      <th>Zipcode</th>\n",
              "      <th>X_Coordinate</th>\n",
              "      <th>Y_Coordinate</th>\n",
              "      <th>NIBRS_Hi_Class</th>\n",
              "    </tr>\n",
              "  </thead>\n",
              "  <tbody>\n",
              "    <tr>\n",
              "      <th>84</th>\n",
              "      <td>INTERURBAN                               AV</td>\n",
              "      <td>28208</td>\n",
              "      <td>1431508</td>\n",
              "      <td>554267</td>\n",
              "      <td>Motor Vehicle Theft</td>\n",
              "    </tr>\n",
              "    <tr>\n",
              "      <th>89</th>\n",
              "      <td>SPRINGMONT                               LN</td>\n",
              "      <td>28208</td>\n",
              "      <td>1427405</td>\n",
              "      <td>557580</td>\n",
              "      <td>Motor Vehicle Theft</td>\n",
              "    </tr>\n",
              "    <tr>\n",
              "      <th>100</th>\n",
              "      <td>SCOTT FUTRELL                            DR</td>\n",
              "      <td>28208</td>\n",
              "      <td>1425917</td>\n",
              "      <td>546914</td>\n",
              "      <td>Motor Vehicle Theft</td>\n",
              "    </tr>\n",
              "    <tr>\n",
              "      <th>103</th>\n",
              "      <td>LISBON                                   LN</td>\n",
              "      <td>28269</td>\n",
              "      <td>1463794</td>\n",
              "      <td>564750</td>\n",
              "      <td>Motor Vehicle Theft</td>\n",
              "    </tr>\n",
              "    <tr>\n",
              "      <th>110</th>\n",
              "      <td>PERIMETER STATION                        DR</td>\n",
              "      <td>28269</td>\n",
              "      <td>1447340</td>\n",
              "      <td>585770</td>\n",
              "      <td>Motor Vehicle Theft</td>\n",
              "    </tr>\n",
              "    <tr>\n",
              "      <th>113</th>\n",
              "      <td>JORDANS POND                             LN</td>\n",
              "      <td>28214</td>\n",
              "      <td>1423483</td>\n",
              "      <td>566774</td>\n",
              "      <td>Motor Vehicle Theft</td>\n",
              "    </tr>\n",
              "    <tr>\n",
              "      <th>148</th>\n",
              "      <td>E  INDEPENDENCE                             BV</td>\n",
              "      <td>28212</td>\n",
              "      <td>1477862</td>\n",
              "      <td>522932</td>\n",
              "      <td>Motor Vehicle Theft</td>\n",
              "    </tr>\n",
              "    <tr>\n",
              "      <th>149</th>\n",
              "      <td>N  CALDWELL                                 ST</td>\n",
              "      <td>28202</td>\n",
              "      <td>1451678</td>\n",
              "      <td>542269</td>\n",
              "      <td>Motor Vehicle Theft</td>\n",
              "    </tr>\n",
              "    <tr>\n",
              "      <th>160</th>\n",
              "      <td>E  7 TH                                     ST</td>\n",
              "      <td></td>\n",
              "      <td>1451249</td>\n",
              "      <td>542901</td>\n",
              "      <td>Motor Vehicle Theft</td>\n",
              "    </tr>\n",
              "    <tr>\n",
              "      <th>165</th>\n",
              "      <td>MAGNOLIA HILL                            DR</td>\n",
              "      <td>28205</td>\n",
              "      <td>1470918</td>\n",
              "      <td>543000</td>\n",
              "      <td>Motor Vehicle Theft</td>\n",
              "    </tr>\n",
              "    <tr>\n",
              "      <th>181</th>\n",
              "      <td>WATSON                                   DR</td>\n",
              "      <td></td>\n",
              "      <td>1436716</td>\n",
              "      <td>539135</td>\n",
              "      <td>Motor Vehicle Theft</td>\n",
              "    </tr>\n",
              "    <tr>\n",
              "      <th>198</th>\n",
              "      <td>S  COLLEGE                                  ST</td>\n",
              "      <td>28202</td>\n",
              "      <td>1449355</td>\n",
              "      <td>542073</td>\n",
              "      <td>Motor Vehicle Theft</td>\n",
              "    </tr>\n",
              "    <tr>\n",
              "      <th>291</th>\n",
              "      <td>SCALEYBARK                               RD</td>\n",
              "      <td>28209</td>\n",
              "      <td>1443247</td>\n",
              "      <td>526701</td>\n",
              "      <td>Motor Vehicle Theft</td>\n",
              "    </tr>\n",
              "    <tr>\n",
              "      <th>332</th>\n",
              "      <td>THRIFTWOOD                               DR</td>\n",
              "      <td>28208</td>\n",
              "      <td>1431910</td>\n",
              "      <td>553890</td>\n",
              "      <td>Motor Vehicle Theft</td>\n",
              "    </tr>\n",
              "    <tr>\n",
              "      <th>359</th>\n",
              "      <td>CRESTWOOD                                DR</td>\n",
              "      <td></td>\n",
              "      <td>1467353</td>\n",
              "      <td>482366</td>\n",
              "      <td>Motor Vehicle Theft</td>\n",
              "    </tr>\n",
              "  </tbody>\n",
              "</table>\n",
              "</div>"
            ],
            "text/plain": [
              "                                     Street_Address       Zipcode  \\\n",
              "84      INTERURBAN                               AV         28208   \n",
              "89      SPRINGMONT                               LN         28208   \n",
              "100     SCOTT FUTRELL                            DR         28208   \n",
              "103     LISBON                                   LN         28269   \n",
              "110     PERIMETER STATION                        DR         28269   \n",
              "113     JORDANS POND                             LN         28214   \n",
              "148  E  INDEPENDENCE                             BV         28212   \n",
              "149  N  CALDWELL                                 ST         28202   \n",
              "160  E  7 TH                                     ST                 \n",
              "165     MAGNOLIA HILL                            DR         28205   \n",
              "181     WATSON                                   DR                 \n",
              "198  S  COLLEGE                                  ST         28202   \n",
              "291     SCALEYBARK                               RD         28209   \n",
              "332     THRIFTWOOD                               DR         28208   \n",
              "359     CRESTWOOD                                DR                 \n",
              "\n",
              "    X_Coordinate Y_Coordinate       NIBRS_Hi_Class  \n",
              "84       1431508       554267  Motor Vehicle Theft  \n",
              "89       1427405       557580  Motor Vehicle Theft  \n",
              "100      1425917       546914  Motor Vehicle Theft  \n",
              "103      1463794       564750  Motor Vehicle Theft  \n",
              "110      1447340       585770  Motor Vehicle Theft  \n",
              "113      1423483       566774  Motor Vehicle Theft  \n",
              "148      1477862       522932  Motor Vehicle Theft  \n",
              "149      1451678       542269  Motor Vehicle Theft  \n",
              "160      1451249       542901  Motor Vehicle Theft  \n",
              "165      1470918       543000  Motor Vehicle Theft  \n",
              "181      1436716       539135  Motor Vehicle Theft  \n",
              "198      1449355       542073  Motor Vehicle Theft  \n",
              "291      1443247       526701  Motor Vehicle Theft  \n",
              "332      1431910       553890  Motor Vehicle Theft  \n",
              "359      1467353       482366  Motor Vehicle Theft  "
            ]
          },
          "execution_count": 28,
          "metadata": {},
          "output_type": "execute_result"
        }
      ],
      "source": [
        "# filtering by 'Motor Vehicle Theft'\n",
        "all_incident_df['NIBRS_Hi_Class'] = all_incident_df['NIBRS_Hi_Class'].str.strip()\n",
        "vehicle_df = all_incident_df[all_incident_df['NIBRS_Hi_Class'].str.contains('Motor Vehicle Theft', case=False)]\n",
        "\n",
        "vehicle_df.head(15)"
      ]
    },
    {
      "cell_type": "markdown",
      "metadata": {
        "id": "kIKmO7bIQdQk"
      },
      "source": [
        "We have some empty values under 'Zipcode' , 'X_Coordinate' , and 'Y_Coordinate' that we have to deal with:\n",
        " * Most of them are empty strings and whitespaces.\n",
        "\n",
        "* Idealy we could use the X & Y coordinates to fill in the missing zip codes. Or fill in the missing information by using the street address. However this would take some time and we are on a bit of a time crunch, so we chose to remove rows entirely with missing data.\n",
        "\n",
        "* Although this gives us less data to work with, we'd rather have accurate data that will work well with modeling than tons of information that will cause problems.\n",
        "\n",
        "\n"
      ]
    },
    {
      "cell_type": "code",
      "execution_count": 29,
      "metadata": {
        "colab": {
          "base_uri": "https://localhost:8080/"
        },
        "id": "E4IXnCn7PUuQ",
        "outputId": "14e269b0-00a7-4376-fac5-0ccb680b3b50"
      },
      "outputs": [
        {
          "name": "stdout",
          "output_type": "stream",
          "text": [
            "                                        Street_Address Zipcode X_Coordinate  \\\n",
            "84         INTERURBAN                               AV   28208      1431508   \n",
            "89         SPRINGMONT                               LN   28208      1427405   \n",
            "100        SCOTT FUTRELL                            DR   28208      1425917   \n",
            "103        LISBON                                   LN   28269      1463794   \n",
            "110        PERIMETER STATION                        DR   28269      1447340   \n",
            "...                                                ...     ...          ...   \n",
            "566624     BEATTIES FORD                            RD   28216      1446074   \n",
            "566626     NEVILLE ABBEY                            DR   28262      1483602   \n",
            "566631     BREEZEWOOD                               DR   28262      1479544   \n",
            "566668     BENNETTSVILLE                            LN   28262      1463389   \n",
            "566755     HERRIN                                   AV   28205      1464791   \n",
            "\n",
            "       Y_Coordinate       NIBRS_Hi_Class  \n",
            "84           554267  Motor Vehicle Theft  \n",
            "89           557580  Motor Vehicle Theft  \n",
            "100          546914  Motor Vehicle Theft  \n",
            "103          564750  Motor Vehicle Theft  \n",
            "110          585770  Motor Vehicle Theft  \n",
            "...             ...                  ...  \n",
            "566624       561136  Motor Vehicle Theft  \n",
            "566626       593837  Motor Vehicle Theft  \n",
            "566631       586486  Motor Vehicle Theft  \n",
            "566668       569930  Motor Vehicle Theft  \n",
            "566755       545684  Motor Vehicle Theft  \n",
            "\n",
            "[10957 rows x 5 columns]\n"
          ]
        }
      ],
      "source": [
        "# Remove rows with NaN values\n",
        "vehicle_df = vehicle_df.dropna()\n",
        "\n",
        "# Remove rows with empty strings\n",
        "vehicle_df = vehicle_df[~vehicle_df.apply(lambda row: row.str.strip().eq('').any(), axis=1)]\n",
        "\n",
        "# Checking the cleaned DataFrame\n",
        "print(vehicle_df)\n",
        "vehicle_df.head(15)\n",
        "\n",
        "# Creating a combined csv\n",
        "vehicle_df.to_csv('Vehicle_Theft.csv', index=False)"
      ]
    },
    {
      "cell_type": "code",
      "execution_count": 33,
      "metadata": {
        "colab": {
          "base_uri": "https://localhost:8080/"
        },
        "id": "2joT1Um9Z7Xz",
        "outputId": "c18d748f-0c90-45f3-9212-682a4c47c62c"
      },
      "outputs": [
        {
          "name": "stdout",
          "output_type": "stream",
          "text": [
            "                                    Street_Address  Theft_Count\n",
            "0   N  TRYON                                    ST          215\n",
            "1   E  INDEPENDENCE                             BV          129\n",
            "2      CENTRAL                                  AV          125\n",
            "3      SOUTH                                    BV          113\n",
            "4      ALBEMARLE                                RD          110\n",
            "5      EASTWAY                                  DR           94\n",
            "6      WILKINSON                                BV           93\n",
            "7   S  TRYON                                    ST           76\n",
            "8      MONROE                                   RD           64\n",
            "9   N  DAVIDSON                                 ST           63\n",
            "10     BEATTIES FORD                            RD           60\n",
            "11     RENTAL CAR                               RD           58\n",
            "12  W  SUGAR CREEK                              RD           52\n",
            "13     THE PLAZA                                             52\n",
            "14     WEST                                     BV           50\n",
            "<bound method NDFrame.head of           Zipcode  Theft_Count\n",
            "0           28208         1414\n",
            "1           28205         1189\n",
            "2           28216          780\n",
            "3           28215          734\n",
            "4           28213          709\n",
            "..            ...          ...\n",
            "139         20208            1\n",
            "140  28208-3604              1\n",
            "141  28216-5811              1\n",
            "142          2806            1\n",
            "143         29215            1\n",
            "\n",
            "[144 rows x 2 columns]>\n"
          ]
        }
      ],
      "source": [
        "# Group data by street address and calculate the count of vehicle theft incidents per street\n",
        "street_theft_counts = vehicle_df['Street_Address'].value_counts().reset_index()\n",
        "street_theft_counts.columns = ['Street_Address', 'Theft_Count']\n",
        "zip_theft_counts = vehicle_df['Zipcode'].value_counts().reset_index()\n",
        "zip_theft_counts.columns = ['Zipcode', 'Theft_Count']\n",
        "# Displaying the counts for each address\n",
        "print(street_theft_counts.head(15))\n",
        "print(zip_theft_counts.head)\n",
        "\n"
      ]
    },
    {
      "cell_type": "markdown",
      "metadata": {
        "id": "QkLsF6Y0xf01"
      },
      "source": [
        "## Data Enrichment\n",
        "Still working on:\n",
        "\n",
        "* Filtering and cleaning additional information about (neighborhood, demographics, etc.) Census data for years 2011 - 2016.\n",
        "\n",
        "* Percent per capita crime prediction (Car theft)\n"
      ]
    },
    {
      "cell_type": "markdown",
      "metadata": {
        "id": "mUIaKVwqfazd"
      },
      "source": [
        "## Machine Learning Model (In Progress)"
      ]
    },
    {
      "cell_type": "markdown",
      "metadata": {
        "id": "6eb9qTKlmhaK"
      },
      "source": [
        "### Splitting the data\n",
        "\n",
        "The features we plan on using may change depending on if we can prepare the additional data correctly. However our target varialbe should remain the same ('Theft_Count')."
      ]
    },
    {
      "cell_type": "markdown",
      "metadata": {},
      "source": [
        "for X = street_theft_counts[['', '', ...]]\n",
        "it is a fill in the blank for when demographic data gets involved"
      ]
    },
    {
      "cell_type": "code",
      "execution_count": 34,
      "metadata": {
        "id": "964EUirgfg-k"
      },
      "outputs": [],
      "source": [
        "from sklearn.model_selection import train_test_split\n",
        "from sklearn.ensemble import RandomForestClassifier\n",
        "from sklearn.metrics import accuracy_score, classification_report\n",
        "\n",
        "# Features (Enriched data)\n",
        "X = street_theft_counts[['', '', ...]]\n",
        "\n",
        "# Target variable\n",
        "y = street_theft_counts['Theft_Count']"
      ]
    },
    {
      "cell_type": "code",
      "execution_count": 36,
      "metadata": {
        "id": "2iT0UMVviTDy"
      },
      "outputs": [],
      "source": [
        "# Split data into training and testing sets\n",
        "X_train, X_test, y_train, y_test = train_test_split(x, y, test_size=0.2, random_state=42)"
      ]
    },
    {
      "cell_type": "code",
      "execution_count": 38,
      "metadata": {
        "id": "2lQMWP1fiZuG"
      },
      "outputs": [
        {
          "ename": "ValueError",
          "evalue": "could not convert string to float: '   HUBBARD WOODS                            RD'",
          "output_type": "error",
          "traceback": [
            "\u001b[1;31m---------------------------------------------------------------------------\u001b[0m",
            "\u001b[1;31mValueError\u001b[0m                                Traceback (most recent call last)",
            "\u001b[1;32m~\\AppData\\Local\\Temp\\ipykernel_18204\\3331786618.py\u001b[0m in \u001b[0;36m?\u001b[1;34m()\u001b[0m\n\u001b[0;32m      4\u001b[0m \u001b[1;33m\u001b[0m\u001b[0m\n\u001b[0;32m      5\u001b[0m \u001b[1;31m# clf = GradientBoostingClassifier(random_state=42)\u001b[0m\u001b[1;33m\u001b[0m\u001b[1;33m\u001b[0m\u001b[0m\n\u001b[0;32m      6\u001b[0m \u001b[1;31m# clf.fit(X_train, y_train)\u001b[0m\u001b[1;33m\u001b[0m\u001b[1;33m\u001b[0m\u001b[0m\n\u001b[0;32m      7\u001b[0m \u001b[0mclf\u001b[0m \u001b[1;33m=\u001b[0m \u001b[0mRandomForestClassifier\u001b[0m\u001b[1;33m(\u001b[0m\u001b[0mrandom_state\u001b[0m\u001b[1;33m=\u001b[0m\u001b[1;36m42\u001b[0m\u001b[1;33m)\u001b[0m\u001b[1;33m\u001b[0m\u001b[1;33m\u001b[0m\u001b[0m\n\u001b[1;32m----> 8\u001b[1;33m \u001b[0mclf\u001b[0m\u001b[1;33m.\u001b[0m\u001b[0mfit\u001b[0m\u001b[1;33m(\u001b[0m\u001b[0mX_train\u001b[0m\u001b[1;33m,\u001b[0m \u001b[0my_train\u001b[0m\u001b[1;33m)\u001b[0m\u001b[1;33m\u001b[0m\u001b[1;33m\u001b[0m\u001b[0m\n\u001b[0m",
            "\u001b[1;32mc:\\Users\\optim\\mambaforge\\envs\\dtsc\\lib\\site-packages\\sklearn\\base.py\u001b[0m in \u001b[0;36m?\u001b[1;34m(estimator, *args, **kwargs)\u001b[0m\n\u001b[0;32m   1147\u001b[0m                 skip_parameter_validation=(\n\u001b[0;32m   1148\u001b[0m                     \u001b[0mprefer_skip_nested_validation\u001b[0m \u001b[1;32mor\u001b[0m \u001b[0mglobal_skip_validation\u001b[0m\u001b[1;33m\u001b[0m\u001b[1;33m\u001b[0m\u001b[0m\n\u001b[0;32m   1149\u001b[0m                 )\n\u001b[0;32m   1150\u001b[0m             ):\n\u001b[1;32m-> 1151\u001b[1;33m                 \u001b[1;32mreturn\u001b[0m \u001b[0mfit_method\u001b[0m\u001b[1;33m(\u001b[0m\u001b[0mestimator\u001b[0m\u001b[1;33m,\u001b[0m \u001b[1;33m*\u001b[0m\u001b[0margs\u001b[0m\u001b[1;33m,\u001b[0m \u001b[1;33m**\u001b[0m\u001b[0mkwargs\u001b[0m\u001b[1;33m)\u001b[0m\u001b[1;33m\u001b[0m\u001b[1;33m\u001b[0m\u001b[0m\n\u001b[0m",
            "\u001b[1;32mc:\\Users\\optim\\mambaforge\\envs\\dtsc\\lib\\site-packages\\sklearn\\ensemble\\_forest.py\u001b[0m in \u001b[0;36m?\u001b[1;34m(self, X, y, sample_weight)\u001b[0m\n\u001b[0;32m    344\u001b[0m         \"\"\"\n\u001b[0;32m    345\u001b[0m         \u001b[1;31m# Validate or convert input data\u001b[0m\u001b[1;33m\u001b[0m\u001b[1;33m\u001b[0m\u001b[0m\n\u001b[0;32m    346\u001b[0m         \u001b[1;32mif\u001b[0m \u001b[0missparse\u001b[0m\u001b[1;33m(\u001b[0m\u001b[0my\u001b[0m\u001b[1;33m)\u001b[0m\u001b[1;33m:\u001b[0m\u001b[1;33m\u001b[0m\u001b[1;33m\u001b[0m\u001b[0m\n\u001b[0;32m    347\u001b[0m             \u001b[1;32mraise\u001b[0m \u001b[0mValueError\u001b[0m\u001b[1;33m(\u001b[0m\u001b[1;34m\"sparse multilabel-indicator for y is not supported.\"\u001b[0m\u001b[1;33m)\u001b[0m\u001b[1;33m\u001b[0m\u001b[1;33m\u001b[0m\u001b[0m\n\u001b[1;32m--> 348\u001b[1;33m         X, y = self._validate_data(\n\u001b[0m\u001b[0;32m    349\u001b[0m             \u001b[0mX\u001b[0m\u001b[1;33m,\u001b[0m \u001b[0my\u001b[0m\u001b[1;33m,\u001b[0m \u001b[0mmulti_output\u001b[0m\u001b[1;33m=\u001b[0m\u001b[1;32mTrue\u001b[0m\u001b[1;33m,\u001b[0m \u001b[0maccept_sparse\u001b[0m\u001b[1;33m=\u001b[0m\u001b[1;34m\"csc\"\u001b[0m\u001b[1;33m,\u001b[0m \u001b[0mdtype\u001b[0m\u001b[1;33m=\u001b[0m\u001b[0mDTYPE\u001b[0m\u001b[1;33m\u001b[0m\u001b[1;33m\u001b[0m\u001b[0m\n\u001b[0;32m    350\u001b[0m         )\n\u001b[0;32m    351\u001b[0m         \u001b[1;32mif\u001b[0m \u001b[0msample_weight\u001b[0m \u001b[1;32mis\u001b[0m \u001b[1;32mnot\u001b[0m \u001b[1;32mNone\u001b[0m\u001b[1;33m:\u001b[0m\u001b[1;33m\u001b[0m\u001b[1;33m\u001b[0m\u001b[0m\n",
            "\u001b[1;32mc:\\Users\\optim\\mambaforge\\envs\\dtsc\\lib\\site-packages\\sklearn\\base.py\u001b[0m in \u001b[0;36m?\u001b[1;34m(self, X, y, reset, validate_separately, cast_to_ndarray, **check_params)\u001b[0m\n\u001b[0;32m    617\u001b[0m                 \u001b[1;32mif\u001b[0m \u001b[1;34m\"estimator\"\u001b[0m \u001b[1;32mnot\u001b[0m \u001b[1;32min\u001b[0m \u001b[0mcheck_y_params\u001b[0m\u001b[1;33m:\u001b[0m\u001b[1;33m\u001b[0m\u001b[1;33m\u001b[0m\u001b[0m\n\u001b[0;32m    618\u001b[0m                     \u001b[0mcheck_y_params\u001b[0m \u001b[1;33m=\u001b[0m \u001b[1;33m{\u001b[0m\u001b[1;33m**\u001b[0m\u001b[0mdefault_check_params\u001b[0m\u001b[1;33m,\u001b[0m \u001b[1;33m**\u001b[0m\u001b[0mcheck_y_params\u001b[0m\u001b[1;33m}\u001b[0m\u001b[1;33m\u001b[0m\u001b[1;33m\u001b[0m\u001b[0m\n\u001b[0;32m    619\u001b[0m                 \u001b[0my\u001b[0m \u001b[1;33m=\u001b[0m \u001b[0mcheck_array\u001b[0m\u001b[1;33m(\u001b[0m\u001b[0my\u001b[0m\u001b[1;33m,\u001b[0m \u001b[0minput_name\u001b[0m\u001b[1;33m=\u001b[0m\u001b[1;34m\"y\"\u001b[0m\u001b[1;33m,\u001b[0m \u001b[1;33m**\u001b[0m\u001b[0mcheck_y_params\u001b[0m\u001b[1;33m)\u001b[0m\u001b[1;33m\u001b[0m\u001b[1;33m\u001b[0m\u001b[0m\n\u001b[0;32m    620\u001b[0m             \u001b[1;32melse\u001b[0m\u001b[1;33m:\u001b[0m\u001b[1;33m\u001b[0m\u001b[1;33m\u001b[0m\u001b[0m\n\u001b[1;32m--> 621\u001b[1;33m                 \u001b[0mX\u001b[0m\u001b[1;33m,\u001b[0m \u001b[0my\u001b[0m \u001b[1;33m=\u001b[0m \u001b[0mcheck_X_y\u001b[0m\u001b[1;33m(\u001b[0m\u001b[0mX\u001b[0m\u001b[1;33m,\u001b[0m \u001b[0my\u001b[0m\u001b[1;33m,\u001b[0m \u001b[1;33m**\u001b[0m\u001b[0mcheck_params\u001b[0m\u001b[1;33m)\u001b[0m\u001b[1;33m\u001b[0m\u001b[1;33m\u001b[0m\u001b[0m\n\u001b[0m\u001b[0;32m    622\u001b[0m             \u001b[0mout\u001b[0m \u001b[1;33m=\u001b[0m \u001b[0mX\u001b[0m\u001b[1;33m,\u001b[0m \u001b[0my\u001b[0m\u001b[1;33m\u001b[0m\u001b[1;33m\u001b[0m\u001b[0m\n\u001b[0;32m    623\u001b[0m \u001b[1;33m\u001b[0m\u001b[0m\n\u001b[0;32m    624\u001b[0m         \u001b[1;32mif\u001b[0m \u001b[1;32mnot\u001b[0m \u001b[0mno_val_X\u001b[0m \u001b[1;32mand\u001b[0m \u001b[0mcheck_params\u001b[0m\u001b[1;33m.\u001b[0m\u001b[0mget\u001b[0m\u001b[1;33m(\u001b[0m\u001b[1;34m\"ensure_2d\"\u001b[0m\u001b[1;33m,\u001b[0m \u001b[1;32mTrue\u001b[0m\u001b[1;33m)\u001b[0m\u001b[1;33m:\u001b[0m\u001b[1;33m\u001b[0m\u001b[1;33m\u001b[0m\u001b[0m\n",
            "\u001b[1;32mc:\\Users\\optim\\mambaforge\\envs\\dtsc\\lib\\site-packages\\sklearn\\utils\\validation.py\u001b[0m in \u001b[0;36m?\u001b[1;34m(X, y, accept_sparse, accept_large_sparse, dtype, order, copy, force_all_finite, ensure_2d, allow_nd, multi_output, ensure_min_samples, ensure_min_features, y_numeric, estimator)\u001b[0m\n\u001b[0;32m   1143\u001b[0m         raise ValueError(\n\u001b[0;32m   1144\u001b[0m             \u001b[1;34mf\"{estimator_name} requires y to be passed, but the target y is None\"\u001b[0m\u001b[1;33m\u001b[0m\u001b[1;33m\u001b[0m\u001b[0m\n\u001b[0;32m   1145\u001b[0m         )\n\u001b[0;32m   1146\u001b[0m \u001b[1;33m\u001b[0m\u001b[0m\n\u001b[1;32m-> 1147\u001b[1;33m     X = check_array(\n\u001b[0m\u001b[0;32m   1148\u001b[0m         \u001b[0mX\u001b[0m\u001b[1;33m,\u001b[0m\u001b[1;33m\u001b[0m\u001b[1;33m\u001b[0m\u001b[0m\n\u001b[0;32m   1149\u001b[0m         \u001b[0maccept_sparse\u001b[0m\u001b[1;33m=\u001b[0m\u001b[0maccept_sparse\u001b[0m\u001b[1;33m,\u001b[0m\u001b[1;33m\u001b[0m\u001b[1;33m\u001b[0m\u001b[0m\n\u001b[0;32m   1150\u001b[0m         \u001b[0maccept_large_sparse\u001b[0m\u001b[1;33m=\u001b[0m\u001b[0maccept_large_sparse\u001b[0m\u001b[1;33m,\u001b[0m\u001b[1;33m\u001b[0m\u001b[1;33m\u001b[0m\u001b[0m\n",
            "\u001b[1;32mc:\\Users\\optim\\mambaforge\\envs\\dtsc\\lib\\site-packages\\sklearn\\utils\\validation.py\u001b[0m in \u001b[0;36m?\u001b[1;34m(array, accept_sparse, accept_large_sparse, dtype, order, copy, force_all_finite, ensure_2d, allow_nd, ensure_min_samples, ensure_min_features, estimator, input_name)\u001b[0m\n\u001b[0;32m    914\u001b[0m                         )\n\u001b[0;32m    915\u001b[0m                     \u001b[0marray\u001b[0m \u001b[1;33m=\u001b[0m \u001b[0mxp\u001b[0m\u001b[1;33m.\u001b[0m\u001b[0mastype\u001b[0m\u001b[1;33m(\u001b[0m\u001b[0marray\u001b[0m\u001b[1;33m,\u001b[0m \u001b[0mdtype\u001b[0m\u001b[1;33m,\u001b[0m \u001b[0mcopy\u001b[0m\u001b[1;33m=\u001b[0m\u001b[1;32mFalse\u001b[0m\u001b[1;33m)\u001b[0m\u001b[1;33m\u001b[0m\u001b[1;33m\u001b[0m\u001b[0m\n\u001b[0;32m    916\u001b[0m                 \u001b[1;32melse\u001b[0m\u001b[1;33m:\u001b[0m\u001b[1;33m\u001b[0m\u001b[1;33m\u001b[0m\u001b[0m\n\u001b[0;32m    917\u001b[0m                     \u001b[0marray\u001b[0m \u001b[1;33m=\u001b[0m \u001b[0m_asarray_with_order\u001b[0m\u001b[1;33m(\u001b[0m\u001b[0marray\u001b[0m\u001b[1;33m,\u001b[0m \u001b[0morder\u001b[0m\u001b[1;33m=\u001b[0m\u001b[0morder\u001b[0m\u001b[1;33m,\u001b[0m \u001b[0mdtype\u001b[0m\u001b[1;33m=\u001b[0m\u001b[0mdtype\u001b[0m\u001b[1;33m,\u001b[0m \u001b[0mxp\u001b[0m\u001b[1;33m=\u001b[0m\u001b[0mxp\u001b[0m\u001b[1;33m)\u001b[0m\u001b[1;33m\u001b[0m\u001b[1;33m\u001b[0m\u001b[0m\n\u001b[1;32m--> 918\u001b[1;33m             \u001b[1;32mexcept\u001b[0m \u001b[0mComplexWarning\u001b[0m \u001b[1;32mas\u001b[0m \u001b[0mcomplex_warning\u001b[0m\u001b[1;33m:\u001b[0m\u001b[1;33m\u001b[0m\u001b[1;33m\u001b[0m\u001b[0m\n\u001b[0m\u001b[0;32m    919\u001b[0m                 raise ValueError(\n\u001b[0;32m    920\u001b[0m                     \u001b[1;34m\"Complex data not supported\\n{}\\n\"\u001b[0m\u001b[1;33m.\u001b[0m\u001b[0mformat\u001b[0m\u001b[1;33m(\u001b[0m\u001b[0marray\u001b[0m\u001b[1;33m)\u001b[0m\u001b[1;33m\u001b[0m\u001b[1;33m\u001b[0m\u001b[0m\n\u001b[0;32m    921\u001b[0m                 ) from complex_warning\n",
            "\u001b[1;32mc:\\Users\\optim\\mambaforge\\envs\\dtsc\\lib\\site-packages\\sklearn\\utils\\_array_api.py\u001b[0m in \u001b[0;36m?\u001b[1;34m(array, dtype, order, copy, xp)\u001b[0m\n\u001b[0;32m    376\u001b[0m         \u001b[1;31m# Use NumPy API to support order\u001b[0m\u001b[1;33m\u001b[0m\u001b[1;33m\u001b[0m\u001b[0m\n\u001b[0;32m    377\u001b[0m         \u001b[1;32mif\u001b[0m \u001b[0mcopy\u001b[0m \u001b[1;32mis\u001b[0m \u001b[1;32mTrue\u001b[0m\u001b[1;33m:\u001b[0m\u001b[1;33m\u001b[0m\u001b[1;33m\u001b[0m\u001b[0m\n\u001b[0;32m    378\u001b[0m             \u001b[0marray\u001b[0m \u001b[1;33m=\u001b[0m \u001b[0mnumpy\u001b[0m\u001b[1;33m.\u001b[0m\u001b[0marray\u001b[0m\u001b[1;33m(\u001b[0m\u001b[0marray\u001b[0m\u001b[1;33m,\u001b[0m \u001b[0morder\u001b[0m\u001b[1;33m=\u001b[0m\u001b[0morder\u001b[0m\u001b[1;33m,\u001b[0m \u001b[0mdtype\u001b[0m\u001b[1;33m=\u001b[0m\u001b[0mdtype\u001b[0m\u001b[1;33m)\u001b[0m\u001b[1;33m\u001b[0m\u001b[1;33m\u001b[0m\u001b[0m\n\u001b[0;32m    379\u001b[0m         \u001b[1;32melse\u001b[0m\u001b[1;33m:\u001b[0m\u001b[1;33m\u001b[0m\u001b[1;33m\u001b[0m\u001b[0m\n\u001b[1;32m--> 380\u001b[1;33m             \u001b[0marray\u001b[0m \u001b[1;33m=\u001b[0m \u001b[0mnumpy\u001b[0m\u001b[1;33m.\u001b[0m\u001b[0masarray\u001b[0m\u001b[1;33m(\u001b[0m\u001b[0marray\u001b[0m\u001b[1;33m,\u001b[0m \u001b[0morder\u001b[0m\u001b[1;33m=\u001b[0m\u001b[0morder\u001b[0m\u001b[1;33m,\u001b[0m \u001b[0mdtype\u001b[0m\u001b[1;33m=\u001b[0m\u001b[0mdtype\u001b[0m\u001b[1;33m)\u001b[0m\u001b[1;33m\u001b[0m\u001b[1;33m\u001b[0m\u001b[0m\n\u001b[0m\u001b[0;32m    381\u001b[0m \u001b[1;33m\u001b[0m\u001b[0m\n\u001b[0;32m    382\u001b[0m         \u001b[1;31m# At this point array is a NumPy ndarray. We convert it to an array\u001b[0m\u001b[1;33m\u001b[0m\u001b[1;33m\u001b[0m\u001b[0m\n\u001b[0;32m    383\u001b[0m         \u001b[1;31m# container that is consistent with the input's namespace.\u001b[0m\u001b[1;33m\u001b[0m\u001b[1;33m\u001b[0m\u001b[0m\n",
            "\u001b[1;32mc:\\Users\\optim\\mambaforge\\envs\\dtsc\\lib\\site-packages\\pandas\\core\\generic.py\u001b[0m in \u001b[0;36m?\u001b[1;34m(self, dtype)\u001b[0m\n\u001b[0;32m   1996\u001b[0m     \u001b[1;32mdef\u001b[0m \u001b[0m__array__\u001b[0m\u001b[1;33m(\u001b[0m\u001b[0mself\u001b[0m\u001b[1;33m,\u001b[0m \u001b[0mdtype\u001b[0m\u001b[1;33m:\u001b[0m \u001b[0mnpt\u001b[0m\u001b[1;33m.\u001b[0m\u001b[0mDTypeLike\u001b[0m \u001b[1;33m|\u001b[0m \u001b[1;32mNone\u001b[0m \u001b[1;33m=\u001b[0m \u001b[1;32mNone\u001b[0m\u001b[1;33m)\u001b[0m \u001b[1;33m->\u001b[0m \u001b[0mnp\u001b[0m\u001b[1;33m.\u001b[0m\u001b[0mndarray\u001b[0m\u001b[1;33m:\u001b[0m\u001b[1;33m\u001b[0m\u001b[1;33m\u001b[0m\u001b[0m\n\u001b[0;32m   1997\u001b[0m         \u001b[0mvalues\u001b[0m \u001b[1;33m=\u001b[0m \u001b[0mself\u001b[0m\u001b[1;33m.\u001b[0m\u001b[0m_values\u001b[0m\u001b[1;33m\u001b[0m\u001b[1;33m\u001b[0m\u001b[0m\n\u001b[1;32m-> 1998\u001b[1;33m         \u001b[0marr\u001b[0m \u001b[1;33m=\u001b[0m \u001b[0mnp\u001b[0m\u001b[1;33m.\u001b[0m\u001b[0masarray\u001b[0m\u001b[1;33m(\u001b[0m\u001b[0mvalues\u001b[0m\u001b[1;33m,\u001b[0m \u001b[0mdtype\u001b[0m\u001b[1;33m=\u001b[0m\u001b[0mdtype\u001b[0m\u001b[1;33m)\u001b[0m\u001b[1;33m\u001b[0m\u001b[1;33m\u001b[0m\u001b[0m\n\u001b[0m\u001b[0;32m   1999\u001b[0m         if (\n\u001b[0;32m   2000\u001b[0m             \u001b[0mastype_is_view\u001b[0m\u001b[1;33m(\u001b[0m\u001b[0mvalues\u001b[0m\u001b[1;33m.\u001b[0m\u001b[0mdtype\u001b[0m\u001b[1;33m,\u001b[0m \u001b[0marr\u001b[0m\u001b[1;33m.\u001b[0m\u001b[0mdtype\u001b[0m\u001b[1;33m)\u001b[0m\u001b[1;33m\u001b[0m\u001b[1;33m\u001b[0m\u001b[0m\n\u001b[0;32m   2001\u001b[0m             \u001b[1;32mand\u001b[0m \u001b[0musing_copy_on_write\u001b[0m\u001b[1;33m(\u001b[0m\u001b[1;33m)\u001b[0m\u001b[1;33m\u001b[0m\u001b[1;33m\u001b[0m\u001b[0m\n",
            "\u001b[1;31mValueError\u001b[0m: could not convert string to float: '   HUBBARD WOODS                            RD'"
          ]
        }
      ],
      "source": [
        "# Building a RandomForestClassifier\n",
        "# Building a Gradient Boosting Classifier\n",
        "\n",
        "# clf = RandomForestClassifier(random_state=42)\n",
        "# clf.fit(X_train, y_train)\n",
        "\n",
        "from sklearn.ensemble import GradientBoostingClassifier\n",
        "\n",
        "clf = GradientBoostingClassifier(random_state=42)\n",
        "clf.fit(X_train, y_train)"
      ]
    },
    {
      "cell_type": "code",
      "execution_count": null,
      "metadata": {
        "id": "oYyRUJkUjmnK"
      },
      "outputs": [],
      "source": [
        "# Make predictions and evaluate the model\n",
        "\n",
        "from sklearn.metrics import mean_absolute_error, mean_squarred_error\n",
        "\n",
        "y_pred = clf.predict(X_test)\n",
        "accuracy = accuracy_score(y_test, y_pred)\n",
        "classification_rep = classification_report(y_test, y_pred)"
      ]
    },
    {
      "cell_type": "code",
      "execution_count": null,
      "metadata": {
        "colab": {
          "base_uri": "https://localhost:8080/"
        },
        "id": "pKO-Iph5jtIy",
        "outputId": "b3571423-064f-442f-bf33-07403b17bdcf"
      },
      "outputs": [
        {
          "name": "stdout",
          "output_type": "stream",
          "text": [
            "Accuracy: 0.8188868613138686\n",
            "Classification Report:\n",
            "              precision    recall  f1-score   support\n",
            "\n",
            "       22821       0.00      0.00      0.00         0\n",
            "       26216       0.00      0.00      0.00         1\n",
            "       28020       0.00      0.00      0.00         1\n",
            "       28034       0.00      0.00      0.00         1\n",
            "       28078       1.00      0.50      0.67         2\n",
            "       28105       0.78      0.70      0.74        10\n",
            "       28110       0.00      0.00      0.00         1\n",
            "       28112       0.00      0.00      0.00         1\n",
            "       28115       0.00      0.00      0.00         1\n",
            "       28134       1.00      0.80      0.89         5\n",
            "282-9              0.00      0.00      0.00         0\n",
            "        2820       0.00      0.00      0.00         3\n",
            "       28201       1.00      0.33      0.50         3\n",
            "       28202       0.83      0.88      0.85        96\n",
            "       28203       0.77      0.93      0.84        40\n",
            "       28204       0.75      0.75      0.75        12\n",
            "       28205       0.94      0.92      0.93       247\n",
            "       28206       0.68      0.80      0.73        86\n",
            "       28207       1.00      0.20      0.33         5\n",
            "       28208       0.90      0.87      0.89       281\n",
            "28208-3604         0.00      0.00      0.00         1\n",
            "28208-5762         0.00      0.00      0.00         0\n",
            "       28209       0.80      0.76      0.78        42\n",
            "       28210       0.62      0.62      0.62        80\n",
            "28210-8130         0.00      0.00      0.00         1\n",
            "28210-8194         0.00      0.00      0.00         1\n",
            "       28211       0.68      0.83      0.75        30\n",
            "       28212       0.82      0.89      0.85       131\n",
            "28212-2913         0.00      0.00      0.00         1\n",
            "       28213       0.80      0.84      0.82       160\n",
            "       28214       0.76      0.83      0.80        89\n",
            "28214-9041         0.00      0.00      0.00         0\n",
            "       28215       0.88      0.77      0.82       140\n",
            "       28216       0.88      0.82      0.85       158\n",
            "28216-4005         0.00      0.00      0.00         0\n",
            "       28217       0.79      0.77      0.78       124\n",
            "       28218       0.00      0.00      0.00         1\n",
            "       28219       0.00      0.00      0.00         1\n",
            "        2822       0.00      0.00      0.00         1\n",
            "       28223       0.00      0.00      0.00         1\n",
            "       28226       0.55      0.63      0.59        19\n",
            "       28227       0.67      0.75      0.71        53\n",
            "       28262       0.82      0.80      0.81        99\n",
            "28262-0665         0.00      0.00      0.00         1\n",
            "       28269       0.89      0.87      0.88       111\n",
            "28269-0440         1.00      1.00      1.00         1\n",
            "       28270       0.85      0.71      0.77        24\n",
            "       28273       0.78      0.82      0.80        78\n",
            "28273-7024         0.00      0.00      0.00         1\n",
            "       28277       0.82      0.95      0.88        19\n",
            "       28278       0.74      0.82      0.78        17\n",
            "282o6              0.00      0.00      0.00         1\n",
            "       28739       0.00      0.00      0.00         1\n",
            "       28806       0.00      0.00      0.00         2\n",
            "       29205       0.00      0.00      0.00         0\n",
            "       29209       0.00      0.00      0.00         1\n",
            "       29210       0.00      0.00      0.00         1\n",
            "       29213       0.00      0.00      0.00         1\n",
            "       29227       1.00      1.00      1.00         1\n",
            "         304       0.00      0.00      0.00         1\n",
            "       82862       1.00      1.00      1.00         1\n",
            "C-2822             0.00      0.00      0.00         1\n",
            "\n",
            "    accuracy                           0.82      2192\n",
            "   macro avg       0.42      0.39      0.39      2192\n",
            "weighted avg       0.82      0.82      0.82      2192\n",
            "\n"
          ]
        }
      ],
      "source": [
        "# Print accuracy and classification report\n",
        "print(f\"Accuracy: {accuracy}\")\n",
        "print(\"Classification Report:\")\n",
        "print(classification_rep)"
      ]
    }
  ],
  "metadata": {
    "colab": {
      "provenance": []
    },
    "kernelspec": {
      "display_name": "Python 3",
      "name": "python3"
    },
    "language_info": {
      "codemirror_mode": {
        "name": "ipython",
        "version": 3
      },
      "file_extension": ".py",
      "mimetype": "text/x-python",
      "name": "python",
      "nbconvert_exporter": "python",
      "pygments_lexer": "ipython3",
      "version": "3.10.13"
    }
  },
  "nbformat": 4,
  "nbformat_minor": 0
}
